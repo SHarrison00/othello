{
 "cells": [
  {
   "cell_type": "markdown",
   "id": "0c441a92-f2db-437e-9c47-7e1fe4c7e059",
   "metadata": {},
   "source": [
    "# Minimax Depth vs Move-Time Analysis\n",
    "\n",
    "This notebook conducts an exploration to investigate the relationship between the **depth parameter** of the Minimax algorithm and the corresponding **move-time** in Othello gameplay. The core hypothesis is based on the theoretical understanding that Minimax complexity grows exponentially, specifically as O(b^d), where 'b' represents the breadth of the game tree and 'd' signifies the Minimax agent's depth. To empirically substantiate this relationship, we'll gather and analyze move-time data from a series of Othello matches where a Minimax agent competes against Random agents. Through detailed and systematic observations, this investigation aims to empirically validate the theoretically anticipated exponential growth pattern of Minimax move-time with increasing depth.\n",
    "\n",
    "## Theoretical Analysis\n",
    "\n",
    "The purpose of this theoretical analysis is to establish an understanding of how the Minimax algorithm's move-time scales with varying depths in the game of Othello, particularly focusing on the hypothesized relationship $f(d) = T \\cdot b^d$, where $f(d)$ represents the move-time at depth $d$.\n",
    "\n",
    "- **Hypothesized Relationship:** Let $f(d)$ be the move-time for the Minimax algorithm at depth $d$. The Minimax algorithm's time complexity as a function of depth is expected to follow: $f(d) = T \\cdot b^d$, where $T$ represents the average time taken to evaluate one board position, and $b$ is the branching factor, approximated as 10 for Othello [1]. The key aspect of this relationship is its expected exponential nature.\n",
    "\n",
    "- **Estimating $T$, and Extrapolation:** To explore this hypothesized relationship, we plan to analyse $f(d)$ at depth 1 to establish a baseline: $f(1) = T \\cdot b$. Using our hypothesized relationship, and the reported value for the branching factor ($b = 10$), we aim to estimate $T$. We will then extrapolate to higher depths to predict this relationship.\n",
    "\n",
    "- **Validation:** After careful estimation, we will perform empirical validation to compare our estimated and hypothesized relationship. This validation will enable us to confidently understand how the Minimax algorithm's move-time scales with varying depths in the game of Othello.\n",
    "\n",
    "**References:**\n",
    "\n",
    "[1] Norvig, P. (1992) '[Search and the Game of Othello](https://www.sciencedirect.com/science/article/abs/pii/B9780080571157500182)', in Paradigms of Artificial Intelligence Programming: Case Studies in Common Lisp, pp. 596-654. doi: 10.1016/B978-0-08-057115-7.50018-2.\n"
   ]
  }
 ],
 "metadata": {
  "kernelspec": {
   "display_name": "Python 3 (ipykernel)",
   "language": "python",
   "name": "python3"
  },
  "language_info": {
   "codemirror_mode": {
    "name": "ipython",
    "version": 3
   },
   "file_extension": ".py",
   "mimetype": "text/x-python",
   "name": "python",
   "nbconvert_exporter": "python",
   "pygments_lexer": "ipython3",
   "version": "3.8.5"
  }
 },
 "nbformat": 4,
 "nbformat_minor": 5
}
