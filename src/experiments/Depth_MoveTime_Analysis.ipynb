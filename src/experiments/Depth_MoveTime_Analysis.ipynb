{
 "cells": [
  {
   "cell_type": "markdown",
   "id": "0c441a92-f2db-437e-9c47-7e1fe4c7e059",
   "metadata": {},
   "source": [
    "# Minimax Depth vs Move-Time Analysis\n",
    "In this notebook, we explore the relationship between the **depth** parameter of the Minimax algorithm and the corresponding **move-time** during gameplay in Othello. Essentially, we must understand the time it takes for our AI to make moves. The core hypothesis is based on the theoretical understanding that the complexity of the Minimax algorithm, particularly in terms of search time, grows *exponentially* with depth, i.e. $\\mathcal{O}(b^d)$, where $b$ is the breadth of the game tree and $d$ is the depth. Here, \"move-time\" essentially refers to the time taken for a complete search cycle at a given depth. Through systematic data collection and analysis from Othello matches using Minimax agents, we aim to empirically validate the theoretically anticipated exponential growth pattern of move-time with increasing depth.\n",
    "\n",
    "---\n",
    "\n",
    "## Theoretical Analysis\n",
    "The theoretical analysis aims to develop an understanding of how the Minimax algorithm's move-time (incorporating the search time) scales with varying depths in the game of Othello, focusing on the hypothesized relationship $f(d) = T \\cdot b^d$, where $f(d)$ denotes the move-time at depth $d$.\n",
    "\n",
    "\n",
    "- **Hypothesized Relationship:** Let $f(d)$ be the move-time for the Minimax algorithm at depth $d$. The Minimax algorithm's time complexity as a function of depth is expected to follow: $f(d) = T \\cdot b^d$, where $T$ represents the average time taken to evaluate a single node in the search tree, and $b$ is the branching factor (approximately $b=10$ for Othello [1]). The key aspect of this relationship is its expected exponential nature.\n",
    "\n",
    "- **Parameter Estimation:** To explore this hypothesized relationship, we plan to analyse $f(d)$ at depth 1 to establish a baseline: $f(1) = T \\cdot b$. With the hypothesized relationship and reported branching factor from the literature ($b = 10$), we aim to estimate $T$.\n",
    "\n",
    "- **Validation:** Post estimation, empirical validation will be conducted to compare our theoretical assumptions with observed data. Successful validation will confirm our understanding of how Minimax's move-time scales with depth in Othello.\n",
    "\n",
    "**References:**\n",
    "\n",
    "[1] Norvig, P. (1992) '[Search and the Game of Othello](https://www.sciencedirect.com/science/article/abs/pii/B9780080571157500182)', in Paradigms of Artificial Intelligence Programming: Case Studies in Common Lisp, pp. 596-654. doi: 10.1016/B978-0-08-057115-7.50018-2.\n",
    "\n",
    "---\n",
    "\n",
    "## Data Collection "
   ]
  },
  {
   "cell_type": "code",
   "execution_count": 1,
   "id": "1bf76db8-bd6d-4517-96dc-7d15260fb720",
   "metadata": {},
   "outputs": [],
   "source": [
    "import os\n",
    "import sys\n",
    "\n",
    "# Calculate path to the src directory and append to sys.path\n",
    "current_dir = os.path.dirname(os.path.abspath(\"Depth_MoveTime_Analysis.ipynb\"))\n",
    "project_root = os.path.dirname(os.path.dirname(current_dir))\n",
    "sys.path.append(os.path.join(project_root, 'src'))\n",
    "\n",
    "from player import Player\n",
    "from game import Game"
   ]
  },
  {
   "cell_type": "code",
   "execution_count": null,
   "id": "5d58e5e8-e816-4a83-b64b-d1b3b935ad65",
   "metadata": {},
   "outputs": [],
   "source": [
    "# Define hyperparameters \n",
    "NUM_GAMES = 10\n",
    "\n",
    "# Instantiate players\n",
    "minimax_player = Player(PlayerType.MINIMAX, SquareType.BLACK, StateEvaluator(), depth = 1)\n",
    "random_player = Player(PlayerType.RANDOM, SquareType.WHITE)\n",
    "\n",
    "while not game.is_finished:\n",
    "    # Display the board\n",
    "    print(\"\\n\\n\")\n",
    "    game.board.display()\n",
    "    time.sleep(1.5)\n",
    "\n",
    "    if game.active == game.player_black:\n",
    "        if game.prev_move != None:\n",
    "            print(\"White has moved.\")\n",
    "            time.sleep(1)\n",
    "        print(\"Black to move.\")\n",
    "    else:\n",
    "        if game.prev_move != None:\n",
    "            print(\"Black has moved.\")\n",
    "            time.sleep(1)\n",
    "        print(\"White to move.\")\n",
    "\n",
    "    # Get the player's move and make it\n",
    "    time.sleep(1)\n",
    "    game.get_player_move()\n",
    "    game.make_move()\n",
    "\n",
    "    # Change turns and update game info\n",
    "    game.change_turn()\n",
    "    game.update_valid_moves()\n",
    "    game.update_scores()\n",
    "\n",
    "    # Before carrying on, check game has not ended\n",
    "    game.check_finished()\n",
    "    time.sleep(1.5)"
   ]
  }
 ],
 "metadata": {
  "kernelspec": {
   "display_name": "Python 3 (ipykernel)",
   "language": "python",
   "name": "python3"
  },
  "language_info": {
   "codemirror_mode": {
    "name": "ipython",
    "version": 3
   },
   "file_extension": ".py",
   "mimetype": "text/x-python",
   "name": "python",
   "nbconvert_exporter": "python",
   "pygments_lexer": "ipython3",
   "version": "3.8.5"
  }
 },
 "nbformat": 4,
 "nbformat_minor": 5
}
