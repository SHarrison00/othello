{
 "cells": [
  {
   "cell_type": "markdown",
   "id": "37261f2f",
   "metadata": {},
   "source": [
    "# Heuristic Analysis for Minimax AI in Othello\n",
    "\n",
    "In this notebook, we explore the most effective **heuristics** for guiding the Minimax algorithm. \n",
    "\n",
    "Seven AI agents, each employing different combinations of heuristics, engage in head-to-head matches. Through these matches, we identify the strongest heuristics that lead to superior AI performance and strategic gameplay.\n",
    "\n",
    "---\n",
    "\n",
    "## Theoretical Analysis\n",
    "\n",
    "The theoretical analysis in this notebook focuses on match evaluation. Specifically, we explore which AI agents (in terms of their heursitics, heuristic weights, and depth settings) achieve the most wins? Based on these results, we infer the strategies that lead to superior Othello AI agents.   \n",
    "\n",
    "Hypotheses:\n",
    "\n",
    "- Corner control is the most important heuristic [1], since gaining corner squares are fundamental to Othello strategy [2]. \n",
    "- Combining all three heuristics (disc difference, mobility, and corner control) should yield the strongest AI [1].\n",
    "- Agents that search **deeper** (i.e higher depth parameter) are stronger, since they \"look further ahead\".\n",
    "\n",
    "Methodology:\n",
    "\n",
    "- Seven AI agents are assessed, each using different combinations of heuristics, via. **head-to-head matches**.\n",
    "- To ensure fairness, every agent competes against every other agent twice, once as Black and once as White.\n",
    "- To ensure fairness, every Minimax agent has depth set to two, i.e. $d=2$. Additionally, this is done for practicality, i.e. computational efficiency.\n",
    "- Results naturally generate a **league structure**, akin to the common format used in football leagues worldwide, following a \"double round-robin\" basis.\n",
    "- To maintain simplicity, all agents employ uniform weights. We reserve weight optimization for future analyses, i.e. fine-tuning AI performance.\n",
    "\n",
    "\n",
    "### References\n",
    "\n",
    "[1] Sannidhanam, A., & Muthukaruppan, A. (2004). '[An Analysis of Heuristics in Othello](https://courses.cs.washington.edu/courses/cse573/04au/Project/mini1/RUSSIA/Final_Paper.pdf)'.\n",
    "\n",
    "[2] Rose, B. (2004). '[Othello: A Minute to Learn... A Lifetime to Master.](https://www.ffothello.org/livres/othello-book-Brian-Rose.pdf)' Anjar Co."
   ]
  }
 ],
 "metadata": {
  "kernelspec": {
   "display_name": "Python 3 (ipykernel)",
   "language": "python",
   "name": "python3"
  },
  "language_info": {
   "codemirror_mode": {
    "name": "ipython",
    "version": 3
   },
   "file_extension": ".py",
   "mimetype": "text/x-python",
   "name": "python",
   "nbconvert_exporter": "python",
   "pygments_lexer": "ipython3",
   "version": "3.8.5"
  }
 },
 "nbformat": 4,
 "nbformat_minor": 5
}
