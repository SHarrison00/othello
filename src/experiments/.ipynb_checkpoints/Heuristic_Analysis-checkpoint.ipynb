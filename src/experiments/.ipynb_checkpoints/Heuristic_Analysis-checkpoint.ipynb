{
 "cells": [
  {
   "cell_type": "markdown",
   "id": "9245c9e6",
   "metadata": {},
   "source": [
    "# Heuristic Analysis for Minimax AI in Othello\n",
    "\n",
    "In this notebook, we explore the most effective **heuristics** for guiding the Minimax algorithm. \n",
    "\n",
    "Several AI agents, each employing different combinations of heuristics, engage in head-to-head matches. Through these matches, we identify the strongest heuristics that lead to superior AI performance and strategic gameplay.\n",
    "\n",
    "---\n",
    "\n",
    "## Theoretical Analysis\n",
    "\n",
    "The theoretical analysis in this notebook focuses on match evaluation. Specifically, we explore which AI agents (in terms of their heursitics, heuristic weights, and depth settings) achieve the most wins. Based on these results, we infer the strategies that lead to superior Othello AI agents.   \n",
    "\n",
    "Hypotheses:\n",
    "\n",
    "- Corner control is the most important heuristic [1], since gaining corner squares are fundamental to Othello strategy [2]. \n",
    "- Combining all three heuristics (disc difference, mobility, and corner control) should yield the strongest AI [1].\n",
    "\n",
    "Methodology:\n",
    "\n",
    "- Several AI agents are assessed, each using different combinations of heuristics, via. **head-to-head matches**.\n",
    "- To ensure fairness, every agent competes against every other agent *twice*, once as Black and once as White.\n",
    "- To ensure fairness, every Minimax agent has depth set to three, i.e. $d=3$. Additionally, this is done for practicality, i.e. computational efficiency.\n",
    "- Results naturally generate a **league structure**, akin to the common format used in football leagues worldwide, following a \"double round-robin\" basis.\n",
    "- To maintain simplicity, for most agents we employ uniform weights and reserve weight optimization for future analyses, i.e. fine-tuning AI performance.\n",
    "\n",
    "**Note:** For `agent_8`, the weights used are motivated by [1]. Sannidhanam & Muthukaruppan briefly discuss the weights they used, which were inspired by *\"a lot of experimentation against online computer Othello players\"*. In this Othello project, we explore their weights, albeit with adjustments, as we have not included a \"stability\" heuristic as they did.\n",
    "\n",
    "### References\n",
    "\n",
    "[1] Sannidhanam, A., & Muthukaruppan, A. (2004). '[An Analysis of Heuristics in Othello](https://courses.cs.washington.edu/courses/cse573/04au/Project/mini1/RUSSIA/Final_Paper.pdf)'.\n",
    "\n",
    "[2] Rose, B. (2004). '[Othello: A Minute to Learn... A Lifetime to Master.](https://www.ffothello.org/livres/othello-book-Brian-Rose.pdf)' Anjar Co.\n",
    "\n",
    "---"
   ]
  },
  {
   "cell_type": "markdown",
   "id": "bea0dad0",
   "metadata": {},
   "source": [
    "## Load Source Code"
   ]
  },
  {
   "cell_type": "code",
   "execution_count": 1,
   "id": "27472d28",
   "metadata": {},
   "outputs": [],
   "source": [
    "import os\n",
    "import sys\n",
    "\n",
    "# Set the working directory to the project root\n",
    "project_root = os.path.abspath(os.path.join(os.getcwd(), '../../..'))\n",
    "os.chdir(project_root)\n",
    "\n",
    "from othello.src.game import Game\n",
    "from othello.src.board import SquareType\n",
    "from othello.src.player import Player, PlayerType\n",
    "from othello.src.state_evaluation import StateEvaluator, HeuristicType\n",
    "from tqdm import tqdm"
   ]
  },
  {
   "cell_type": "markdown",
   "id": "aaf8b085",
   "metadata": {},
   "source": [
    "## Initialise Players"
   ]
  },
  {
   "cell_type": "code",
   "execution_count": 2,
   "id": "8ccf1346",
   "metadata": {},
   "outputs": [],
   "source": [
    "# Agents dictionary\n",
    "agents = {}\n",
    "depth = 3\n",
    "\n",
    "# Agent 1: Disc difference\n",
    "custom_weights = {HeuristicType.DISC_DIFF: 1.0}\n",
    "state_eval = StateEvaluator(weights=custom_weights)\n",
    "agents['agent_1'] = {\n",
    "    'black': Player(PlayerType.MINIMAX, SquareType.BLACK, state_eval, depth),\n",
    "    'white': Player(PlayerType.MINIMAX, SquareType.WHITE, state_eval, depth)\n",
    "}\n",
    "\n",
    "# Agent 2: Mobility\n",
    "custom_weights = {HeuristicType.MOBILITY: 1.0}\n",
    "state_eval = StateEvaluator(weights=custom_weights)\n",
    "agents['agent_2'] = {\n",
    "    'black': Player(PlayerType.MINIMAX, SquareType.BLACK, state_eval, depth),\n",
    "    'white': Player(PlayerType.MINIMAX, SquareType.WHITE, state_eval, depth)\n",
    "}\n",
    "\n",
    "# Agent 3: Corners\n",
    "custom_weights = {HeuristicType.CORNERS: 1.0}\n",
    "state_eval = StateEvaluator(weights=custom_weights)\n",
    "agents['agent_3'] = {\n",
    "    'black': Player(PlayerType.MINIMAX, SquareType.BLACK, state_eval, depth),\n",
    "    'white': Player(PlayerType.MINIMAX, SquareType.WHITE, state_eval, depth)\n",
    "}\n",
    "\n",
    "# Agent 4: Disc difference & Corners\n",
    "custom_weights = {HeuristicType.DISC_DIFF: 0.5, HeuristicType.CORNERS: 0.5}\n",
    "state_eval = StateEvaluator(weights=custom_weights)\n",
    "agents['agent_4'] = {\n",
    "    'black': Player(PlayerType.MINIMAX, SquareType.BLACK, state_eval, depth),\n",
    "    'white': Player(PlayerType.MINIMAX, SquareType.WHITE, state_eval, depth)\n",
    "}\n",
    "\n",
    "# Agent 5: Disc difference & Mobility\n",
    "custom_weights = {HeuristicType.DISC_DIFF: 0.5, HeuristicType.MOBILITY: 0.5}\n",
    "state_eval = StateEvaluator(weights=custom_weights)\n",
    "agents['agent_5'] = {\n",
    "    'black': Player(PlayerType.MINIMAX, SquareType.BLACK, state_eval, depth),\n",
    "    'white': Player(PlayerType.MINIMAX, SquareType.WHITE, state_eval, depth)\n",
    "}\n",
    "\n",
    "# Agent 6: Mobility & Corners\n",
    "custom_weights = {HeuristicType.MOBILITY: 0.5, HeuristicType.CORNERS: 0.5}\n",
    "state_eval = StateEvaluator(weights=custom_weights)\n",
    "agents['agent_6'] = {\n",
    "    'black': Player(PlayerType.MINIMAX, SquareType.BLACK, state_eval, depth),\n",
    "    'white': Player(PlayerType.MINIMAX, SquareType.WHITE, state_eval, depth)\n",
    "}\n",
    "\n",
    "# Agent 7: All Heuristics\n",
    "custom_weights = {\n",
    "    HeuristicType.DISC_DIFF: 1/3,\n",
    "    HeuristicType.MOBILITY: 1/3,\n",
    "    HeuristicType.CORNERS: 1/3\n",
    "}\n",
    "state_eval = StateEvaluator(weights=custom_weights)\n",
    "agents['agent_7'] = {\n",
    "    'black': Player(PlayerType.MINIMAX, SquareType.BLACK, state_eval, depth),\n",
    "    'white': Player(PlayerType.MINIMAX, SquareType.WHITE, state_eval, depth)\n",
    "}\n",
    "\n",
    "# Agent 8: All Heuristics \n",
    "# Weights motivated by 'An Analysis of Heuristics in Othello'\n",
    "custom_weights = {\n",
    "    HeuristicType.DISC_DIFF: 25/60,\n",
    "    HeuristicType.MOBILITY: 5/60,\n",
    "    HeuristicType.CORNERS: 30/60\n",
    "}\n",
    "state_eval = StateEvaluator(weights=custom_weights)\n",
    "agents['agent_8'] = {\n",
    "    'black': Player(PlayerType.MINIMAX, SquareType.BLACK, state_eval, depth),\n",
    "    'white': Player(PlayerType.MINIMAX, SquareType.WHITE, state_eval, depth)\n",
    "}"
   ]
  },
  {
   "cell_type": "markdown",
   "id": "d7b06dc3-6037-47ad-bb65-d563d898b86f",
   "metadata": {},
   "source": [
    "## Simulate Match Function\n",
    "\n",
    "- A function to simulate an Othello match between two agents.\n",
    "- Returns all relevant information, i.e winnner, score etc."
   ]
  },
  {
   "cell_type": "code",
   "execution_count": 3,
   "id": "fe4153ea-46fa-400b-9bcf-a9470f1167ec",
   "metadata": {},
   "outputs": [],
   "source": [
    "def simulate_match(agent_black_name, agent_white_name):\n",
    "    \"\"\"\n",
    "    Simulates an Othello match between two agents.\n",
    "    \"\"\"\n",
    "    \n",
    "    # Get agent using dictionary\n",
    "    agent_black = agents.get(agent_black_name)\n",
    "    agent_white = agents.get(agent_white_name)\n",
    "    \n",
    "    # Instantiate game instance\n",
    "    player_black = agent_black[\"black\"]\n",
    "    player_white = agent_white[\"white\"]\n",
    "    game = Game(player_black, player_white)\n",
    "    \n",
    "    while not game.is_finished:\n",
    "        game.get_player_move() \n",
    "        game.make_move()\n",
    "        game.change_turn()\n",
    "        game.update_valid_moves()\n",
    "        game.update_scores()\n",
    "        game.check_finished()\n",
    "    \n",
    "    game.determine_winner()\n",
    "\n",
    "    return {\n",
    "        'game_result': game.game_result,\n",
    "        'black_score': game.black_score,\n",
    "        'white_score': game.white_score,\n",
    "        'agent_black': agent_black_name,\n",
    "        'agent_white': agent_white_name\n",
    "    }"
   ]
  },
  {
   "cell_type": "markdown",
   "id": "8a5b5199-0162-4adb-a0e9-f6f27c5f4390",
   "metadata": {},
   "source": [
    "## Generate (All) Match Results Function\n",
    "\n",
    "- A function to generate match results for each agent matchup. \n",
    "- Returns all relevant information, i.e winnner, score etc."
   ]
  },
  {
   "cell_type": "code",
   "execution_count": 4,
   "id": "7c16e974-2660-4b25-a92e-3d079aa03655",
   "metadata": {},
   "outputs": [],
   "source": [
    "def generate_match_results():\n",
    "    \"\"\"\n",
    "    Generates match results for each agent matchup. \n",
    "    \"\"\"\n",
    "    \n",
    "    match_results = []\n",
    "    agent_names = list(agents.keys())\n",
    "\n",
    "    for i in tqdm(range(len(agent_names))):\n",
    "        for j in tqdm(range(i + 1, len(agent_names))):\n",
    "            print(f\"Playing: {agent_names[i]} vs. {agent_names[j]}\")\n",
    "            \n",
    "            result_1 = simulate_match(agent_names[i], agent_names[j])\n",
    "            result_2 = simulate_match(agent_names[j], agent_names[i])\n",
    "            \n",
    "            match_results.append(result_1)\n",
    "            match_results.append(result_2)\n",
    "\n",
    "    return match_results"
   ]
  },
  {
   "cell_type": "markdown",
   "id": "c180b54e-df25-46c9-931d-a13b36221cb4",
   "metadata": {},
   "source": [
    "- Run the above, generating all match results.\n",
    "- Save locally and interpret results."
   ]
  },
  {
   "cell_type": "code",
   "execution_count": 5,
   "id": "6dcc2e6a-5cb7-45e9-ad62-c1a19fd7df20",
   "metadata": {
    "scrolled": true
   },
   "outputs": [
    {
     "name": "stderr",
     "output_type": "stream",
     "text": [
      "  0%|                                                     | 0/8 [00:00<?, ?it/s]\n",
      "  0%|                                                     | 0/7 [00:00<?, ?it/s]\u001b[A"
     ]
    },
    {
     "name": "stdout",
     "output_type": "stream",
     "text": [
      "Playing: agent_1 vs. agent_2\n"
     ]
    },
    {
     "name": "stderr",
     "output_type": "stream",
     "text": [
      "\n",
      " 14%|██████▎                                     | 1/7 [02:30<15:02, 150.47s/it]\u001b[A"
     ]
    },
    {
     "name": "stdout",
     "output_type": "stream",
     "text": [
      "Playing: agent_1 vs. agent_3\n"
     ]
    },
    {
     "name": "stderr",
     "output_type": "stream",
     "text": [
      "\n",
      " 29%|████████████▊                                | 2/7 [03:23<07:45, 93.05s/it]\u001b[A"
     ]
    },
    {
     "name": "stdout",
     "output_type": "stream",
     "text": [
      "Playing: agent_1 vs. agent_4\n"
     ]
    },
    {
     "name": "stderr",
     "output_type": "stream",
     "text": [
      "\n",
      " 43%|██████████████████▊                         | 3/7 [05:28<07:11, 107.79s/it]\u001b[A"
     ]
    },
    {
     "name": "stdout",
     "output_type": "stream",
     "text": [
      "Playing: agent_1 vs. agent_5\n"
     ]
    },
    {
     "name": "stderr",
     "output_type": "stream",
     "text": [
      "\n",
      " 57%|█████████████████████████▏                  | 4/7 [08:25<06:44, 134.91s/it]\u001b[A"
     ]
    },
    {
     "name": "stdout",
     "output_type": "stream",
     "text": [
      "Playing: agent_1 vs. agent_6\n"
     ]
    },
    {
     "name": "stderr",
     "output_type": "stream",
     "text": [
      "\n",
      " 71%|███████████████████████████████▍            | 5/7 [10:55<04:40, 140.38s/it]\u001b[A"
     ]
    },
    {
     "name": "stdout",
     "output_type": "stream",
     "text": [
      "Playing: agent_1 vs. agent_7\n"
     ]
    },
    {
     "name": "stderr",
     "output_type": "stream",
     "text": [
      "\n",
      " 86%|█████████████████████████████████████▋      | 6/7 [13:48<02:31, 151.61s/it]\u001b[A"
     ]
    },
    {
     "name": "stdout",
     "output_type": "stream",
     "text": [
      "Playing: agent_1 vs. agent_8\n"
     ]
    },
    {
     "name": "stderr",
     "output_type": "stream",
     "text": [
      "\n",
      "100%|████████████████████████████████████████████| 7/7 [17:10<00:00, 147.16s/it]\u001b[A\n",
      " 12%|█████▏                                   | 1/8 [17:10<2:00:10, 1030.12s/it]\n",
      "  0%|                                                     | 0/6 [00:00<?, ?it/s]\u001b[A"
     ]
    },
    {
     "name": "stdout",
     "output_type": "stream",
     "text": [
      "Playing: agent_2 vs. agent_3\n"
     ]
    },
    {
     "name": "stderr",
     "output_type": "stream",
     "text": [
      "\n",
      " 17%|███████▎                                    | 1/6 [02:15<11:19, 135.80s/it]\u001b[A"
     ]
    },
    {
     "name": "stdout",
     "output_type": "stream",
     "text": [
      "Playing: agent_2 vs. agent_4\n"
     ]
    },
    {
     "name": "stderr",
     "output_type": "stream",
     "text": [
      "\n",
      " 33%|██████████████▋                             | 2/6 [04:16<08:28, 127.01s/it]\u001b[A"
     ]
    },
    {
     "name": "stdout",
     "output_type": "stream",
     "text": [
      "Playing: agent_2 vs. agent_5\n"
     ]
    },
    {
     "name": "stderr",
     "output_type": "stream",
     "text": [
      "\n",
      " 50%|██████████████████████                      | 3/6 [09:25<10:30, 210.17s/it]\u001b[A"
     ]
    },
    {
     "name": "stdout",
     "output_type": "stream",
     "text": [
      "Playing: agent_2 vs. agent_6\n"
     ]
    },
    {
     "name": "stderr",
     "output_type": "stream",
     "text": [
      "\n",
      " 67%|█████████████████████████████▎              | 4/6 [13:40<07:35, 227.57s/it]\u001b[A"
     ]
    },
    {
     "name": "stdout",
     "output_type": "stream",
     "text": [
      "Playing: agent_2 vs. agent_7\n"
     ]
    },
    {
     "name": "stderr",
     "output_type": "stream",
     "text": [
      "\n",
      " 83%|████████████████████████████████████▋       | 5/6 [18:15<04:04, 244.85s/it]\u001b[A"
     ]
    },
    {
     "name": "stdout",
     "output_type": "stream",
     "text": [
      "Playing: agent_2 vs. agent_8\n"
     ]
    },
    {
     "name": "stderr",
     "output_type": "stream",
     "text": [
      "\n",
      "100%|████████████████████████████████████████████| 6/6 [21:12<00:00, 212.00s/it]\u001b[A\n",
      " 25%|██████████▎                              | 2/8 [38:22<1:57:14, 1172.42s/it]\n",
      "  0%|                                                     | 0/5 [00:00<?, ?it/s]\u001b[A"
     ]
    },
    {
     "name": "stdout",
     "output_type": "stream",
     "text": [
      "Playing: agent_3 vs. agent_4\n"
     ]
    },
    {
     "name": "stderr",
     "output_type": "stream",
     "text": [
      "\n",
      " 20%|█████████                                    | 1/5 [00:50<03:21, 50.28s/it]\u001b[A"
     ]
    },
    {
     "name": "stdout",
     "output_type": "stream",
     "text": [
      "Playing: agent_3 vs. agent_5\n"
     ]
    },
    {
     "name": "stderr",
     "output_type": "stream",
     "text": [
      "\n",
      " 40%|██████████████████                           | 2/5 [02:22<03:45, 75.11s/it]\u001b[A"
     ]
    },
    {
     "name": "stdout",
     "output_type": "stream",
     "text": [
      "Playing: agent_3 vs. agent_6\n"
     ]
    },
    {
     "name": "stderr",
     "output_type": "stream",
     "text": [
      "\n",
      " 60%|███████████████████████████                  | 3/5 [04:28<03:16, 98.26s/it]\u001b[A"
     ]
    },
    {
     "name": "stdout",
     "output_type": "stream",
     "text": [
      "Playing: agent_3 vs. agent_7\n"
     ]
    },
    {
     "name": "stderr",
     "output_type": "stream",
     "text": [
      "\n",
      " 80%|███████████████████████████████████▏        | 4/5 [06:40<01:51, 111.53s/it]\u001b[A"
     ]
    },
    {
     "name": "stdout",
     "output_type": "stream",
     "text": [
      "Playing: agent_3 vs. agent_8\n"
     ]
    },
    {
     "name": "stderr",
     "output_type": "stream",
     "text": [
      "\n",
      "100%|█████████████████████████████████████████████| 5/5 [08:00<00:00, 96.08s/it]\u001b[A\n",
      " 38%|███████████████▊                          | 3/8 [46:22<1:11:22, 856.44s/it]\n",
      "  0%|                                                     | 0/4 [00:00<?, ?it/s]\u001b[A"
     ]
    },
    {
     "name": "stdout",
     "output_type": "stream",
     "text": [
      "Playing: agent_4 vs. agent_5\n"
     ]
    },
    {
     "name": "stderr",
     "output_type": "stream",
     "text": [
      "\n",
      " 25%|███████████                                 | 1/4 [02:51<08:33, 171.00s/it]\u001b[A"
     ]
    },
    {
     "name": "stdout",
     "output_type": "stream",
     "text": [
      "Playing: agent_4 vs. agent_6\n"
     ]
    },
    {
     "name": "stderr",
     "output_type": "stream",
     "text": [
      "\n",
      " 50%|██████████████████████                      | 2/4 [04:36<04:25, 132.61s/it]\u001b[A"
     ]
    },
    {
     "name": "stdout",
     "output_type": "stream",
     "text": [
      "Playing: agent_4 vs. agent_7\n"
     ]
    },
    {
     "name": "stderr",
     "output_type": "stream",
     "text": [
      "\n",
      " 75%|█████████████████████████████████           | 3/4 [07:15<02:24, 144.33s/it]\u001b[A"
     ]
    },
    {
     "name": "stdout",
     "output_type": "stream",
     "text": [
      "Playing: agent_4 vs. agent_8\n"
     ]
    },
    {
     "name": "stderr",
     "output_type": "stream",
     "text": [
      "\n",
      "100%|████████████████████████████████████████████| 4/4 [10:50<00:00, 162.70s/it]\u001b[A\n",
      " 50%|██████████████████████                      | 4/8 [57:13<51:41, 775.26s/it]\n",
      "  0%|                                                     | 0/3 [00:00<?, ?it/s]\u001b[A"
     ]
    },
    {
     "name": "stdout",
     "output_type": "stream",
     "text": [
      "Playing: agent_5 vs. agent_6\n"
     ]
    },
    {
     "name": "stderr",
     "output_type": "stream",
     "text": [
      "\n",
      " 33%|██████████████▋                             | 1/3 [05:00<10:01, 300.57s/it]\u001b[A"
     ]
    },
    {
     "name": "stdout",
     "output_type": "stream",
     "text": [
      "Playing: agent_5 vs. agent_7\n"
     ]
    },
    {
     "name": "stderr",
     "output_type": "stream",
     "text": [
      "\n",
      " 67%|█████████████████████████████▎              | 2/3 [12:51<06:40, 400.47s/it]\u001b[A"
     ]
    },
    {
     "name": "stdout",
     "output_type": "stream",
     "text": [
      "Playing: agent_5 vs. agent_8\n"
     ]
    },
    {
     "name": "stderr",
     "output_type": "stream",
     "text": [
      "\n",
      "100%|████████████████████████████████████████████| 3/3 [19:37<00:00, 392.35s/it]\u001b[A\n",
      " 62%|██████████████████████████▎               | 5/8 [1:16:50<46:00, 920.16s/it]\n",
      "  0%|                                                     | 0/2 [00:00<?, ?it/s]\u001b[A"
     ]
    },
    {
     "name": "stdout",
     "output_type": "stream",
     "text": [
      "Playing: agent_6 vs. agent_7\n"
     ]
    },
    {
     "name": "stderr",
     "output_type": "stream",
     "text": [
      "\n",
      " 50%|██████████████████████                      | 1/2 [04:47<04:47, 287.58s/it]\u001b[A"
     ]
    },
    {
     "name": "stdout",
     "output_type": "stream",
     "text": [
      "Playing: agent_6 vs. agent_8\n"
     ]
    },
    {
     "name": "stderr",
     "output_type": "stream",
     "text": [
      "\n",
      "100%|████████████████████████████████████████████| 2/2 [08:03<00:00, 241.97s/it]\u001b[A\n",
      " 75%|███████████████████████████████▌          | 6/8 [1:24:54<25:43, 771.84s/it]\n",
      "  0%|                                                     | 0/1 [00:00<?, ?it/s]\u001b[A"
     ]
    },
    {
     "name": "stdout",
     "output_type": "stream",
     "text": [
      "Playing: agent_7 vs. agent_8\n"
     ]
    },
    {
     "name": "stderr",
     "output_type": "stream",
     "text": [
      "\n",
      "100%|████████████████████████████████████████████| 1/1 [07:15<00:00, 435.13s/it]\u001b[A\n",
      " 88%|████████████████████████████████████▊     | 7/8 [1:32:09<11:01, 661.76s/it]\n",
      "0it [00:00, ?it/s]\u001b[A\n",
      "100%|██████████████████████████████████████████| 8/8 [1:32:09<00:00, 691.19s/it]\n"
     ]
    }
   ],
   "source": [
    "# Generate match results\n",
    "match_results = generate_match_results()"
   ]
  },
  {
   "cell_type": "code",
   "execution_count": 6,
   "id": "df7726c6-f52f-4bde-8917-03fc93ec12e6",
   "metadata": {},
   "outputs": [
    {
     "data": {
      "text/html": [
       "<div>\n",
       "<style scoped>\n",
       "    .dataframe tbody tr th:only-of-type {\n",
       "        vertical-align: middle;\n",
       "    }\n",
       "\n",
       "    .dataframe tbody tr th {\n",
       "        vertical-align: top;\n",
       "    }\n",
       "\n",
       "    .dataframe thead th {\n",
       "        text-align: right;\n",
       "    }\n",
       "</style>\n",
       "<table border=\"1\" class=\"dataframe\">\n",
       "  <thead>\n",
       "    <tr style=\"text-align: right;\">\n",
       "      <th></th>\n",
       "      <th>game_result</th>\n",
       "      <th>black_score</th>\n",
       "      <th>white_score</th>\n",
       "      <th>agent_black</th>\n",
       "      <th>agent_white</th>\n",
       "    </tr>\n",
       "  </thead>\n",
       "  <tbody>\n",
       "    <tr>\n",
       "      <th>0</th>\n",
       "      <td>Black Wins</td>\n",
       "      <td>37</td>\n",
       "      <td>0</td>\n",
       "      <td>agent_1</td>\n",
       "      <td>agent_2</td>\n",
       "    </tr>\n",
       "    <tr>\n",
       "      <th>1</th>\n",
       "      <td>White Wins</td>\n",
       "      <td>26</td>\n",
       "      <td>38</td>\n",
       "      <td>agent_2</td>\n",
       "      <td>agent_1</td>\n",
       "    </tr>\n",
       "    <tr>\n",
       "      <th>2</th>\n",
       "      <td>White Wins</td>\n",
       "      <td>14</td>\n",
       "      <td>50</td>\n",
       "      <td>agent_1</td>\n",
       "      <td>agent_3</td>\n",
       "    </tr>\n",
       "    <tr>\n",
       "      <th>3</th>\n",
       "      <td>White Wins</td>\n",
       "      <td>22</td>\n",
       "      <td>42</td>\n",
       "      <td>agent_3</td>\n",
       "      <td>agent_1</td>\n",
       "    </tr>\n",
       "    <tr>\n",
       "      <th>4</th>\n",
       "      <td>White Wins</td>\n",
       "      <td>21</td>\n",
       "      <td>43</td>\n",
       "      <td>agent_1</td>\n",
       "      <td>agent_4</td>\n",
       "    </tr>\n",
       "  </tbody>\n",
       "</table>\n",
       "</div>"
      ],
      "text/plain": [
       "  game_result  black_score  white_score agent_black agent_white\n",
       "0  Black Wins           37            0     agent_1     agent_2\n",
       "1  White Wins           26           38     agent_2     agent_1\n",
       "2  White Wins           14           50     agent_1     agent_3\n",
       "3  White Wins           22           42     agent_3     agent_1\n",
       "4  White Wins           21           43     agent_1     agent_4"
      ]
     },
     "execution_count": 6,
     "metadata": {},
     "output_type": "execute_result"
    }
   ],
   "source": [
    "import pandas as pd\n",
    "\n",
    "# Save Data Frame locally, as .csv\n",
    "df_results = pd.DataFrame(match_results)\n",
    "df_results.to_csv(\"match_results.csv\")\n",
    "df_results.head()"
   ]
  },
  {
   "cell_type": "markdown",
   "id": "1dc4f407",
   "metadata": {},
   "source": [
    "- Transform the match results DataFrame into a league table."
   ]
  },
  {
   "cell_type": "code",
   "execution_count": 7,
   "id": "152dd3c5",
   "metadata": {},
   "outputs": [],
   "source": [
    "# Create a list of unique agent names\n",
    "all_agents = pd.concat([df_results['agent_black'], df_results['agent_white']]).unique()\n",
    "\n",
    "# Initialize a DataFrame for the league table\n",
    "df_league = pd.DataFrame(index=all_agents)\n",
    "\n",
    "# Count wins, draws, and losses for each agent\n",
    "df_league['Wins'] = (\n",
    "    (df_results['game_result'] == 'Black Wins').groupby(df_results['agent_black']).sum() +\n",
    "    (df_results['game_result'] == 'White Wins').groupby(df_results['agent_white']).sum()\n",
    ")\n",
    "\n",
    "df_league['Draws'] = (\n",
    "    (df_results['game_result'] == 'Draw').groupby(df_results['agent_black']).sum() +\n",
    "    (df_results['game_result'] == 'Draw').groupby(df_results['agent_white']).sum()\n",
    ")\n",
    "\n",
    "df_league['Losses'] = (\n",
    "    (df_results['game_result'] == 'White Wins').groupby(df_results['agent_black']).sum() +\n",
    "    (df_results['game_result'] == 'Black Wins').groupby(df_results['agent_white']).sum()\n",
    ")\n",
    "\n",
    "# Calculate points based on wins and draws\n",
    "df_league['Points'] = df_league['Wins'] * 3 + df_league['Draws']\n",
    "\n",
    "# Fill NaN values with 0 for agents with no matches\n",
    "df_league.fillna(0, inplace=True)\n",
    "\n",
    "# Sort the league table by Points in descending order\n",
    "df_league.sort_values(by='Points', ascending=False, inplace=True)"
   ]
  },
  {
   "cell_type": "markdown",
   "id": "0b4c637f",
   "metadata": {},
   "source": [
    "- Save locally and interpret results."
   ]
  },
  {
   "cell_type": "code",
   "execution_count": 8,
   "id": "26034724",
   "metadata": {},
   "outputs": [
    {
     "data": {
      "text/html": [
       "<div>\n",
       "<style scoped>\n",
       "    .dataframe tbody tr th:only-of-type {\n",
       "        vertical-align: middle;\n",
       "    }\n",
       "\n",
       "    .dataframe tbody tr th {\n",
       "        vertical-align: top;\n",
       "    }\n",
       "\n",
       "    .dataframe thead th {\n",
       "        text-align: right;\n",
       "    }\n",
       "</style>\n",
       "<table border=\"1\" class=\"dataframe\">\n",
       "  <thead>\n",
       "    <tr style=\"text-align: right;\">\n",
       "      <th></th>\n",
       "      <th>Wins</th>\n",
       "      <th>Draws</th>\n",
       "      <th>Losses</th>\n",
       "      <th>Points</th>\n",
       "    </tr>\n",
       "  </thead>\n",
       "  <tbody>\n",
       "    <tr>\n",
       "      <th>agent_8</th>\n",
       "      <td>9</td>\n",
       "      <td>1</td>\n",
       "      <td>4</td>\n",
       "      <td>28</td>\n",
       "    </tr>\n",
       "    <tr>\n",
       "      <th>agent_6</th>\n",
       "      <td>8</td>\n",
       "      <td>0</td>\n",
       "      <td>6</td>\n",
       "      <td>24</td>\n",
       "    </tr>\n",
       "    <tr>\n",
       "      <th>agent_7</th>\n",
       "      <td>8</td>\n",
       "      <td>0</td>\n",
       "      <td>6</td>\n",
       "      <td>24</td>\n",
       "    </tr>\n",
       "    <tr>\n",
       "      <th>agent_4</th>\n",
       "      <td>7</td>\n",
       "      <td>0</td>\n",
       "      <td>7</td>\n",
       "      <td>21</td>\n",
       "    </tr>\n",
       "    <tr>\n",
       "      <th>agent_5</th>\n",
       "      <td>7</td>\n",
       "      <td>0</td>\n",
       "      <td>7</td>\n",
       "      <td>21</td>\n",
       "    </tr>\n",
       "    <tr>\n",
       "      <th>agent_1</th>\n",
       "      <td>6</td>\n",
       "      <td>1</td>\n",
       "      <td>7</td>\n",
       "      <td>19</td>\n",
       "    </tr>\n",
       "    <tr>\n",
       "      <th>agent_2</th>\n",
       "      <td>6</td>\n",
       "      <td>0</td>\n",
       "      <td>8</td>\n",
       "      <td>18</td>\n",
       "    </tr>\n",
       "    <tr>\n",
       "      <th>agent_3</th>\n",
       "      <td>4</td>\n",
       "      <td>0</td>\n",
       "      <td>10</td>\n",
       "      <td>12</td>\n",
       "    </tr>\n",
       "  </tbody>\n",
       "</table>\n",
       "</div>"
      ],
      "text/plain": [
       "         Wins  Draws  Losses  Points\n",
       "agent_8     9      1       4      28\n",
       "agent_6     8      0       6      24\n",
       "agent_7     8      0       6      24\n",
       "agent_4     7      0       7      21\n",
       "agent_5     7      0       7      21\n",
       "agent_1     6      1       7      19\n",
       "agent_2     6      0       8      18\n",
       "agent_3     4      0      10      12"
      ]
     },
     "execution_count": 8,
     "metadata": {},
     "output_type": "execute_result"
    }
   ],
   "source": [
    "# Save Data Frame locally, as .csv\n",
    "df_league.to_csv(\"league_table.csv\")\n",
    "df_league"
   ]
  },
  {
   "cell_type": "markdown",
   "id": "0b77a5de",
   "metadata": {},
   "source": [
    "**Main Finding:**\n",
    "    \n",
    "- Agent `agent_8` was the strongest-performing AI, reinforcing the results found by Sannidhanam & Muthukaruppan [1]. \n",
    "\n",
    "Other Findings:\n",
    "\n",
    "- Interestingly, corner control by itself was the worst-performing AI, suggesting the importance of other heuristics.\n",
    "- Generally, agents with more heuristics performed better, motivating all heuristics explored. "
   ]
  }
 ],
 "metadata": {
  "kernelspec": {
   "display_name": "Python 3 (ipykernel)",
   "language": "python",
   "name": "python3"
  },
  "language_info": {
   "codemirror_mode": {
    "name": "ipython",
    "version": 3
   },
   "file_extension": ".py",
   "mimetype": "text/x-python",
   "name": "python",
   "nbconvert_exporter": "python",
   "pygments_lexer": "ipython3",
   "version": "3.8.5"
  }
 },
 "nbformat": 4,
 "nbformat_minor": 5
}
