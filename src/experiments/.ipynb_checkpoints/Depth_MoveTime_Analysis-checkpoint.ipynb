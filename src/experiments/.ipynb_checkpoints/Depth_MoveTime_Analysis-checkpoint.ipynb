{
 "cells": [
  {
   "cell_type": "markdown",
   "id": "0c441a92-f2db-437e-9c47-7e1fe4c7e059",
   "metadata": {},
   "source": [
    "# Minimax Depth vs Move-Time Analysis\n",
    "In this notebook, we explore the relationship between the **depth** parameter of the Minimax algorithm and **move-time** during gameplay in Othello. \n",
    "\n",
    "Essentially, we must understand the time it takes for our AI to make moves. The core hypothesis is based on the theoretical understanding that the complexity of the Minimax algorithm grows *exponentially* with depth. Specifically, we hypothesise move-time has growth of order: $\\mathcal{O}(b^d)$, where $b$ is the breadth of the game tree and $d$ is the depth. Note, \"move-time\" here essentially refers to the time taken for a complete search cycle at a given depth. \n",
    "\n",
    "Through systematic data collection from Othello matches using Minimax agents, we empirically validate this theoretical exponential growth pattern.\n",
    "\n",
    "---\n",
    "\n",
    "## Theoretical Analysis\n",
    "The theoretical analysis explores how the Minimax algorithm's move-time (incl. search time) scales with depth in Othello. Specifically, the hypothesised relationship is $f(d) = T \\cdot b^d$, where $f(d)$ denotes the move-time at depth $d$. Ultimately, we validate this relationship empirically.\n",
    "\n",
    "Hypothesised Relationship: \n",
    "\n",
    "- **Let $f(d)$ be the move-time for the Minimax algorithm at depth $d$**.\n",
    "- Minimax algorithm's time complexity as a function of depth is expected to follow: $f(d) = T \\cdot b^d$, where\n",
    "- $T$ represents the average time taken to evaluate a single node in the search tree,\n",
    "- $b$ is the branching factor (approx. $b \\approx 10$ for Othello [1]).\n",
    "- Note, the key aspect of this relationship is its exponential nature.\n",
    "\n",
    "Parameter Estimation: \n",
    "\n",
    "- To explore this hypothesised relationship, we record move-times at depth $d = 1$ and note that: $f(1) = T \\cdot b$.\n",
    "- Using the expression above and the reported branching factor ($b \\approx 10$), we find an estimate for $T$.\n",
    "\n",
    "Validation:\n",
    "\n",
    "- After estimation, empirical validation is performed to compare our theoretical relationship with observed data.\n",
    "- Successful validation will confirm our understanding of how Minimax's move-time scales with depth in Othello.\n",
    "\n",
    "### References\n",
    "\n",
    "[1] Norvig, P. (1992) '[Search and the Game of Othello](https://www.sciencedirect.com/science/article/abs/pii/B9780080571157500182)', in Paradigms of Artificial Intelligence Programming: Case Studies in Common Lisp, pp. 596-654. doi: 10.1016/B978-0-08-057115-7.50018-2.\n",
    "\n",
    "---"
   ]
  },
  {
   "cell_type": "markdown",
   "id": "d463075d-bca6-41b0-9a55-6fd4075772fa",
   "metadata": {},
   "source": [
    "## Load Source Code"
   ]
  },
  {
   "cell_type": "code",
   "execution_count": 1,
   "id": "1bf76db8-bd6d-4517-96dc-7d15260fb720",
   "metadata": {},
   "outputs": [],
   "source": [
    "import os\n",
    "import sys\n",
    "\n",
    "# Calculate path to the src directory and append to sys.path\n",
    "current_dir = os.path.dirname(os.path.abspath(\"Depth_MoveTime_Analysis.ipynb\"))\n",
    "project_root = os.path.dirname(os.path.dirname(current_dir))\n",
    "sys.path.append(os.path.join(project_root, 'src'))\n",
    "\n",
    "from game import Game\n",
    "from board import SquareType\n",
    "from player import Player, PlayerType\n",
    "from state_evaluation import StateEvaluator"
   ]
  },
  {
   "cell_type": "markdown",
   "id": "4d0cef1b-c22f-4922-bab2-70c800531f0d",
   "metadata": {},
   "source": [
    "## Timing Function"
   ]
  },
  {
   "cell_type": "markdown",
   "id": "ec256bfc-031f-449e-97ca-2e9eabad8deb",
   "metadata": {},
   "source": [
    "- Define the function `recordMinimaxMoveTimes_FixedDepth` to record times taken (at a fixed depth) for the Minimax player to make each move."
   ]
  },
  {
   "cell_type": "code",
   "execution_count": 2,
   "id": "5d58e5e8-e816-4a83-b64b-d1b3b935ad65",
   "metadata": {
    "scrolled": true
   },
   "outputs": [],
   "source": [
    "import time\n",
    "\n",
    "def recordMinimaxMoveTimes_FixedDepth(depth):\n",
    "    \"\"\"\n",
    "    Simulates a single game of Othello between a Minimax player, operating at a \n",
    "    specified depth, and a Random player. Records the time taken by the Minimax \n",
    "    player to make each move.\n",
    "\n",
    "    Args:\n",
    "        depth (int): The depth to which the Minimax algorithm will search. This \n",
    "                     parameter directly affects the complexity and performance \n",
    "                     of the Minimax player.\n",
    "\n",
    "    Returns:\n",
    "        list: A list of float values, each representing the time taken (seconds) \n",
    "              for the Minimax player to make a move. List is in chronological \n",
    "              order, corresponding to the sequence of the game's moves.\n",
    "    \"\"\"\n",
    "    \n",
    "    # Instantiate Player & Game instances\n",
    "    state_eval = StateEvaluator()\n",
    "    minimax = Player(PlayerType.MINIMAX, SquareType.BLACK, state_eval, depth)\n",
    "    random = Player(PlayerType.RANDOM, SquareType.WHITE)\n",
    "    game = Game(minimax, random)\n",
    "    \n",
    "    # List to store move times\n",
    "    minimax_move_times = []\n",
    "    while not game.is_finished:\n",
    "        # Black's turn (i.e. Minimax)\n",
    "        if game.active == game.player_black:\n",
    "            start_time = time.time()\n",
    "            game.get_player_move()\n",
    "            end_time = time.time()\n",
    "            \n",
    "            minimax_move_time = end_time - start_time\n",
    "            minimax_move_times.append(minimax_move_time)\n",
    "        else:\n",
    "            game.get_player_move()\n",
    "            \n",
    "        game.make_move()\n",
    "        game.change_turn()\n",
    "        game.update_valid_moves()\n",
    "        game.update_scores()\n",
    "    \n",
    "        game.check_finished()\n",
    "\n",
    "    return minimax_move_times"
   ]
  },
  {
   "cell_type": "markdown",
   "id": "2d9533e4-5cf0-4d97-b7fd-1f9817c5b40b",
   "metadata": {},
   "source": [
    "## Parameter Estimation"
   ]
  },
  {
   "cell_type": "markdown",
   "id": "96860ed7-0900-4ef5-9098-3ada0c0b70f8",
   "metadata": {},
   "source": [
    "- Want to estimate $T$, i.e average time taken to evaluate a single node in the search tree\n",
    "- Record move-times at depth $d = 1, \\quad$ i.e. collect observations and compare to $f(1) = T \\cdot b$, $\\quad$ or $\\quad T = \\frac{f(1)}{b}$."
   ]
  },
  {
   "cell_type": "code",
   "execution_count": 3,
   "id": "00de4dbe-2789-43ce-b601-78d9352c96c8",
   "metadata": {},
   "outputs": [
    {
     "name": "stderr",
     "output_type": "stream",
     "text": [
      "100%|█████████████████████████████████████████████████████████████████████████████████████████████████████████████████████████████████████████████████████████████████████████████████████████████████| 15/15 [00:31<00:00,  2.07s/it]"
     ]
    },
    {
     "name": "stdout",
     "output_type": "stream",
     "text": [
      "Recorded move-times at depth d=1.\n"
     ]
    },
    {
     "name": "stderr",
     "output_type": "stream",
     "text": [
      "\n"
     ]
    }
   ],
   "source": [
    "import numpy as np\n",
    "from tqdm import tqdm\n",
    "from IPython.display import display, Math\n",
    "\n",
    "# Simulate many games for reliability\n",
    "NUM_GAMES = 15\n",
    "all_move_times = []\n",
    "\n",
    "for _ in tqdm(range(NUM_GAMES)):\n",
    "    # Record move-times at depth d=1\n",
    "    move_times = recordMinimaxMoveTimes_FixedDepth(depth=1)\n",
    "    all_move_times.extend(move_times)\n",
    "print(\"Recorded move-times at depth d=1.\")"
   ]
  },
  {
   "cell_type": "markdown",
   "id": "27e0d10f-d321-4df6-bf4a-eb85b578e483",
   "metadata": {},
   "source": [
    "- Using the above and $b \\approx 10$, we approximate 95% confidence interval for $T$, via. $\\bar{T} \\pm 2 \\cdot \\text{SE}_\\bar{T}$.\n",
    "- Note that $\\bar{T}$ is stored under `T_bar`, and $\\text{SE}_\\bar{T}$ is stored under `SE`."
   ]
  },
  {
   "cell_type": "code",
   "execution_count": 4,
   "id": "660ed1b3-9f3d-4b41-bd00-ec1db945857c",
   "metadata": {},
   "outputs": [
    {
     "data": {
      "text/latex": [
       "$\\displaystyle \\bar{T} \\pm 2 \\cdot \\text{SE}_{\\bar{T}}$"
      ],
      "text/plain": [
       "<IPython.core.display.Math object>"
      ]
     },
     "metadata": {},
     "output_type": "display_data"
    },
    {
     "data": {
      "text/latex": [
       "$\\displaystyle = 0.00631 \\pm 0.00028$"
      ],
      "text/plain": [
       "<IPython.core.display.Math object>"
      ]
     },
     "metadata": {},
     "output_type": "display_data"
    },
    {
     "data": {
      "text/latex": [
       "$\\displaystyle = [0.00603, 0.00659]$"
      ],
      "text/plain": [
       "<IPython.core.display.Math object>"
      ]
     },
     "metadata": {},
     "output_type": "display_data"
    }
   ],
   "source": [
    "# Define branching factor\n",
    "b = 10\n",
    "\n",
    "# Calculate sample mean and std dev of T \n",
    "T_bar = np.mean(all_move_times) / b\n",
    "std_dev = np.std(all_move_times) / b\n",
    "\n",
    "# Calculate standard error of T_bar\n",
    "SE = std_dev / np.sqrt(len(all_move_times))\n",
    "\n",
    "# Display estimate and interval\n",
    "display(Math(f\"\\\\bar{{T}} \\\\pm 2 \\\\cdot \\\\text{{SE}}_{{\\\\bar{{T}}}}\"))\n",
    "display(Math(f\"= {T_bar:.5f} \\\\pm {2 * SE:.5f}\"))\n",
    "display(Math(f\"= [{T_bar - 2 * SE:.5f}, {T_bar + 2 * SE:.5f}]\"))"
   ]
  },
  {
   "cell_type": "markdown",
   "id": "513471be-b7dd-4840-8e9e-c89b61680305",
   "metadata": {},
   "source": [
    "- Essentially, our estimate for $T$ is somewhere between $[\\bar{T} - 2 \\cdot SE, \\bar{T} + 2 \\cdot SE]$.\n",
    "- i.e. **Average time taken to evaluate a single node** is between $[\\bar{T} - 2 \\cdot SE, \\bar{T} + 2 \\cdot SE]$, as calculated above."
   ]
  },
  {
   "cell_type": "markdown",
   "id": "9eee00c6-f370-42b3-9d82-8162bf4c5615",
   "metadata": {},
   "source": [
    "## Validation"
   ]
  },
  {
   "cell_type": "markdown",
   "id": "9db67344-22ad-4f0f-ba02-1dafa8915edf",
   "metadata": {},
   "source": [
    "- Perform empirical validation by comparing the theoretical relationship with observed data.\n",
    "- First, collect another set of move times, this time at various depths.\n",
    "- Calculate the mean move time for each specific depth, and in the `move_time_sample_means` dictionary."
   ]
  },
  {
   "cell_type": "code",
   "execution_count": 5,
   "id": "7acc07f5-a4cf-4a79-b350-5636705ef0f3",
   "metadata": {},
   "outputs": [
    {
     "name": "stderr",
     "output_type": "stream",
     "text": [
      "  0%|                                                                                                                                                                                                           | 0/4 [00:00<?, ?it/s]\n",
      "  0%|                                                                                                                                                                                                           | 0/2 [00:00<?, ?it/s]\u001b[A\n",
      " 50%|█████████████████████████████████████████████████████████████████████████████████████████████████▌                                                                                                 | 1/2 [00:02<00:02,  2.49s/it]\u001b[A\n",
      "100%|███████████████████████████████████████████████████████████████████████████████████████████████████████████████████████████████████████████████████████████████████████████████████████████████████| 2/2 [00:04<00:00,  2.11s/it]\u001b[A\n",
      " 25%|████████████████████████████████████████████████▊                                                                                                                                                  | 1/4 [00:04<00:12,  4.23s/it]\n",
      "  0%|                                                                                                                                                                                                           | 0/2 [00:00<?, ?it/s]\u001b[A\n",
      " 50%|█████████████████████████████████████████████████████████████████████████████████████████████████▌                                                                                                 | 1/2 [00:14<00:14, 14.74s/it]\u001b[A\n",
      "100%|███████████████████████████████████████████████████████████████████████████████████████████████████████████████████████████████████████████████████████████████████████████████████████████████████| 2/2 [00:26<00:00, 13.15s/it]\u001b[A\n",
      " 50%|█████████████████████████████████████████████████████████████████████████████████████████████████▌                                                                                                 | 2/4 [00:30<00:34, 17.22s/it]\n",
      "  0%|                                                                                                                                                                                                           | 0/2 [00:00<?, ?it/s]\u001b[A\n",
      " 50%|█████████████████████████████████████████████████████████████████████████████████████████████████▌                                                                                                 | 1/2 [00:24<00:24, 24.97s/it]\u001b[A\n",
      "100%|███████████████████████████████████████████████████████████████████████████████████████████████████████████████████████████████████████████████████████████████████████████████████████████████████| 2/2 [02:13<00:00, 66.80s/it]\u001b[A\n",
      " 75%|██████████████████████████████████████████████████████████████████████████████████████████████████████████████████████████████████████████████████▎                                                | 3/4 [02:44<01:10, 70.37s/it]\n",
      "  0%|                                                                                                                                                                                                           | 0/2 [00:00<?, ?it/s]\u001b[A\n",
      " 50%|████████████████████████████████████████████████████████████████████████████████████████████████▌                                                                                                | 1/2 [33:41<33:41, 2021.67s/it]\u001b[A\n",
      "100%|█████████████████████████████████████████████████████████████████████████████████████████████████████████████████████████████████████████████████████████████████████████████████████████████████| 2/2 [57:59<00:00, 1739.65s/it]\u001b[A\n",
      "100%|████████████████████████████████████████████████████████████████████████████████████████████████████████████████████████████████████████████████████████████████████████████████████████████████| 4/4 [1:00:43<00:00, 910.86s/it]\n"
     ]
    },
    {
     "data": {
      "text/plain": [
       "{1: 0.06005027438655044,\n",
       " 2: 0.4274526385010266,\n",
       " 3: 3.254701102652201,\n",
       " 4: 57.03362382044558}"
      ]
     },
     "execution_count": 5,
     "metadata": {},
     "output_type": "execute_result"
    }
   ],
   "source": [
    "# Simulate only a couple of games at each depth\n",
    "# (Exponential relationship largely increases time-taken at higher depths)\n",
    "NUM_GAMES = 2\n",
    "d_range = np.arange(1, 5)\n",
    "all_move_times = {d: [] for d in d_range}\n",
    "\n",
    "for d in tqdm(d_range):\n",
    "    for _ in tqdm(range(NUM_GAMES)):\n",
    "        move_times = recordMinimaxMoveTimes_FixedDepth(depth=d)\n",
    "        all_move_times[d].extend(move_times)\n",
    "\n",
    "# Calculate sample mean move time for each depth in d_range\n",
    "move_time_sample_means = {d: np.mean(move_times) for d, move_times in all_move_times.items()}\n",
    "move_time_sample_means"
   ]
  },
  {
   "cell_type": "code",
   "execution_count": 6,
   "id": "4970708f-1ccc-41c2-825d-58ef98dbc8ad",
   "metadata": {},
   "outputs": [],
   "source": [
    "import json\n",
    "\n",
    "all_move_times_dict = {str(key): value for key, value in all_move_times.items()}\n",
    "\n",
    "# Save the dictionary as a JSON file\n",
    "with open(\"all_move_times_dict.json\", \"w\") as json_file:\n",
    "    json.dump(all_move_times_dict, json_file)"
   ]
  },
  {
   "cell_type": "markdown",
   "id": "c8fab701-a140-487b-a5bf-452e17c83445",
   "metadata": {},
   "source": [
    "- After estimation, empirical validation is performed to compare our theoretical relationship with observed data.\n",
    "- Plot theoretical relationship (using estimated value for $T$, given by $\\bar{T}$) against the observed data."
   ]
  },
  {
   "cell_type": "code",
   "execution_count": 8,
   "id": "5bdd21d9-410c-43aa-a7e5-7e932352878e",
   "metadata": {},
   "outputs": [
    {
     "data": {
      "image/png": "[encoded data removed]",
      "text/plain": [
       "<Figure size 640x480 with 1 Axes>"
      ]
     },
     "metadata": {},
     "output_type": "display_data"
    }
   ],
   "source": [
    "import matplotlib.pyplot as plt\n",
    "\n",
    "# Depth range and move_time_sample_means dictionary\n",
    "d_range = np.arange(1, 5)\n",
    "\n",
    "theoretical_move_times = T_bar * b**d_range\n",
    "empirical_move_times = list(move_time_sample_means.values())\n",
    "\n",
    "# Plot the mean value for T (T_bar) against move_time_sample_means\n",
    "plt.plot(d_range, theoretical_move_times, label='Theoretical', color='blue', marker='o')\n",
    "plt.plot(d_range, empirical_move_times, label='Empirical', color='orange', marker='o')\n",
    "\n",
    "plt.xlabel('Depth, d')\n",
    "plt.ylabel('Move Time (seconds)')\n",
    "plt.title('Move Time: Theoretical Vs. Empirical')\n",
    "plt.legend()\n",
    "plt.grid(True, which='both', linestyle='--', alpha=0.5)\n",
    "plt.xticks(d_range)\n",
    "plt.show()"
   ]
  },
  {
   "cell_type": "markdown",
   "id": "be1e463a-12a0-42ff-af57-7f941cf11152",
   "metadata": {},
   "source": [
    "- Observed data agrees with theory.\n",
    "- Confirms our understanding of how Minimax's move-time scales with depth in Othello.\n",
    "- Additionally, this indicates that $d = 3$ is a suitable depth for users to play against."
   ]
  }
 ],
 "metadata": {
  "kernelspec": {
   "display_name": "Python 3 (ipykernel)",
   "language": "python",
   "name": "python3"
  },
  "language_info": {
   "codemirror_mode": {
    "name": "ipython",
    "version": 3
   },
   "file_extension": ".py",
   "mimetype": "text/x-python",
   "name": "python",
   "nbconvert_exporter": "python",
   "pygments_lexer": "ipython3",
   "version": "3.8.5"
  }
 },
 "nbformat": 4,
 "nbformat_minor": 5
}
