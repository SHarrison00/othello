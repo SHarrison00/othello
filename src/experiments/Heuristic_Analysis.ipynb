{
 "cells": [
  {
   "cell_type": "markdown",
   "id": "9245c9e6",
   "metadata": {},
   "source": [
    "# Heuristic Analysis for Minimax AI in Othello\n",
    "\n",
    "In this notebook, we explore the most effective **heuristics** for guiding the Minimax algorithm. \n",
    "\n",
    "Several AI agents, each employing different combinations of heuristics, engage in head-to-head matches. Through these matches, we identify the strongest heuristics that lead to superior AI performance and strategic gameplay.\n",
    "\n",
    "---\n",
    "\n",
    "## Theoretical Analysis\n",
    "\n",
    "The theoretical analysis in this notebook focuses on match evaluation. Specifically, we explore which AI agents (in terms of their heursitics, heuristic weights, and depth settings) achieve the most wins. Based on these results, we infer the strategies that lead to superior Othello AI agents.   \n",
    "\n",
    "Hypotheses:\n",
    "\n",
    "- Corner control is the most important heuristic [1], since gaining corner squares are fundamental to Othello strategy [2]. \n",
    "- Combining all three heuristics (disc difference, mobility, and corner control) should yield the strongest AI [1].\n",
    "- Agents that search **deeper** (i.e higher depth parameter) are stronger, since they \"look further ahead\".\n",
    "\n",
    "Methodology:\n",
    "\n",
    "- Several AI agents are assessed, each using different combinations of heuristics, via. **head-to-head matches**.\n",
    "- To ensure fairness, every agent competes against every other agent *twice*, once as Black and once as White.\n",
    "- To ensure fairness, every Minimax agent has depth set to three, i.e. $d=3$. Additionally, this is done for practicality, i.e. computational efficiency.\n",
    "- Results naturally generate a **league structure**, akin to the common format used in football leagues worldwide, following a \"double round-robin\" basis.\n",
    "- To maintain simplicity, all agents employ uniform weights. We reserve weight optimization for future analyses, i.e. fine-tuning AI performance.\n",
    "\n",
    "\n",
    "### References\n",
    "\n",
    "[1] Sannidhanam, A., & Muthukaruppan, A. (2004). '[An Analysis of Heuristics in Othello](https://courses.cs.washington.edu/courses/cse573/04au/Project/mini1/RUSSIA/Final_Paper.pdf)'.\n",
    "\n",
    "[2] Rose, B. (2004). '[Othello: A Minute to Learn... A Lifetime to Master.](https://www.ffothello.org/livres/othello-book-Brian-Rose.pdf)' Anjar Co.\n",
    "\n",
    "---"
   ]
  },
  {
   "cell_type": "markdown",
   "id": "bea0dad0",
   "metadata": {},
   "source": [
    "## Load Source Code"
   ]
  },
  {
   "cell_type": "code",
   "execution_count": 1,
   "id": "27472d28",
   "metadata": {},
   "outputs": [],
   "source": [
    "import os\n",
    "import sys\n",
    "\n",
    "# Calculate path to the src directory and append to sys.path\n",
    "current_dir = os.path.dirname(os.path.abspath(\"Heuristic_Analysis.ipynb\"))\n",
    "project_root = os.path.dirname(os.path.dirname(current_dir))\n",
    "sys.path.append(os.path.join(project_root, 'src'))\n",
    "\n",
    "from game import Game\n",
    "from board import SquareType\n",
    "from player import Player, PlayerType\n",
    "from state_evaluation import StateEvaluator, HeuristicType"
   ]
  },
  {
   "cell_type": "markdown",
   "id": "aaf8b085",
   "metadata": {},
   "source": [
    "## Initialise Players"
   ]
  },
  {
   "cell_type": "code",
   "execution_count": 2,
   "id": "8ccf1346",
   "metadata": {},
   "outputs": [],
   "source": [
    "# Agents dictionary\n",
    "agents = {}\n",
    "depth = 1\n",
    "\n",
    "# Agent 1: Disc difference\n",
    "custom_weights = {HeuristicType.DISC_DIFF: 1.0}\n",
    "state_eval = StateEvaluator(weights=custom_weights)\n",
    "agents['agent_1'] = {\n",
    "    'black': Player(PlayerType.MINIMAX, SquareType.BLACK, state_eval, depth),\n",
    "    'white': Player(PlayerType.MINIMAX, SquareType.WHITE, state_eval, depth)\n",
    "}\n",
    "\n",
    "# Agent 2: Mobility\n",
    "custom_weights = {HeuristicType.MOBILITY: 1.0}\n",
    "state_eval = StateEvaluator(weights=custom_weights)\n",
    "agents['agent_2'] = {\n",
    "    'black': Player(PlayerType.MINIMAX, SquareType.BLACK, state_eval, depth),\n",
    "    'white': Player(PlayerType.MINIMAX, SquareType.WHITE, state_eval, depth)\n",
    "}\n",
    "\n",
    "# Agent 3: Corners\n",
    "custom_weights = {HeuristicType.CORNERS: 1.0}\n",
    "state_eval = StateEvaluator(weights=custom_weights)\n",
    "agents['agent_3'] = {\n",
    "    'black': Player(PlayerType.MINIMAX, SquareType.BLACK, state_eval, depth),\n",
    "    'white': Player(PlayerType.MINIMAX, SquareType.WHITE, state_eval, depth)\n",
    "}\n",
    "\n",
    "# Agent 4: Disc difference & Corners\n",
    "custom_weights = {HeuristicType.DISC_DIFF: 0.5, HeuristicType.CORNERS: 0.5}\n",
    "state_eval = StateEvaluator(weights=custom_weights)\n",
    "agents['agent_4'] = {\n",
    "    'black': Player(PlayerType.MINIMAX, SquareType.BLACK, state_eval, depth),\n",
    "    'white': Player(PlayerType.MINIMAX, SquareType.WHITE, state_eval, depth)\n",
    "}\n",
    "\n",
    "# Agent 5: Disc difference & Mobility\n",
    "custom_weights = {HeuristicType.DISC_DIFF: 0.5, HeuristicType.MOBILITY: 0.5}\n",
    "state_eval = StateEvaluator(weights=custom_weights)\n",
    "agents['agent_5'] = {\n",
    "    'black': Player(PlayerType.MINIMAX, SquareType.BLACK, state_eval, depth),\n",
    "    'white': Player(PlayerType.MINIMAX, SquareType.WHITE, state_eval, depth)\n",
    "}\n",
    "\n",
    "# Agent 6: Mobility & Corners\n",
    "custom_weights = {HeuristicType.MOBILITY: 0.5, HeuristicType.CORNERS: 0.5}\n",
    "state_eval = StateEvaluator(weights=custom_weights)\n",
    "agents['agent_6'] = {\n",
    "    'black': Player(PlayerType.MINIMAX, SquareType.BLACK, state_eval, depth),\n",
    "    'white': Player(PlayerType.MINIMAX, SquareType.WHITE, state_eval, depth)\n",
    "}\n",
    "\n",
    "# Agent 7: All Heuristics\n",
    "custom_weights = {\n",
    "    HeuristicType.DISC_DIFF: 1/3,\n",
    "    HeuristicType.MOBILITY: 1/3,\n",
    "    HeuristicType.CORNERS: 1/3\n",
    "}\n",
    "state_eval = StateEvaluator(weights=custom_weights)\n",
    "agents['agent_7'] = {\n",
    "    'black': Player(PlayerType.MINIMAX, SquareType.BLACK, state_eval, depth),\n",
    "    'white': Player(PlayerType.MINIMAX, SquareType.WHITE, state_eval, depth)\n",
    "}"
   ]
  },
  {
   "cell_type": "markdown",
   "id": "d7b06dc3-6037-47ad-bb65-d563d898b86f",
   "metadata": {},
   "source": [
    "## Match Function\n",
    "\n",
    "- A function to simulate an Othello match between two agents.\n",
    "- Returns all relevant information, i.e winnner, score etc."
   ]
  },
  {
   "cell_type": "code",
   "execution_count": 3,
   "id": "533c0a07-1a57-49f4-95ee-6015b885b5ce",
   "metadata": {},
   "outputs": [
    {
     "name": "stderr",
     "output_type": "stream",
     "text": [
      "  0%|                                                 | 0/7 [00:00<?, ?it/s]\n",
      "  0%|                                                 | 0/6 [00:00<?, ?it/s]\u001b[A"
     ]
    },
    {
     "name": "stdout",
     "output_type": "stream",
     "text": [
      "Playing: agent_1 vs. agent_2\n"
     ]
    },
    {
     "name": "stderr",
     "output_type": "stream",
     "text": [
      "\n",
      " 17%|██████▊                                  | 1/6 [00:03<00:16,  3.38s/it]\u001b[A"
     ]
    },
    {
     "name": "stdout",
     "output_type": "stream",
     "text": [
      "Playing: agent_1 vs. agent_3\n"
     ]
    },
    {
     "name": "stderr",
     "output_type": "stream",
     "text": [
      "\n",
      " 33%|█████████████▋                           | 2/6 [00:05<00:09,  2.46s/it]\u001b[A"
     ]
    },
    {
     "name": "stdout",
     "output_type": "stream",
     "text": [
      "Playing: agent_1 vs. agent_4\n"
     ]
    },
    {
     "name": "stderr",
     "output_type": "stream",
     "text": [
      "\n",
      " 50%|████████████████████▌                    | 3/6 [00:07<00:07,  2.37s/it]\u001b[A"
     ]
    },
    {
     "name": "stdout",
     "output_type": "stream",
     "text": [
      "Playing: agent_1 vs. agent_5\n"
     ]
    },
    {
     "name": "stderr",
     "output_type": "stream",
     "text": [
      "\n",
      " 67%|███████████████████████████▎             | 4/6 [00:12<00:06,  3.24s/it]\u001b[A"
     ]
    },
    {
     "name": "stdout",
     "output_type": "stream",
     "text": [
      "Playing: agent_1 vs. agent_6\n"
     ]
    },
    {
     "name": "stderr",
     "output_type": "stream",
     "text": [
      "\n",
      " 83%|██████████████████████████████████▏      | 5/6 [00:16<00:03,  3.56s/it]\u001b[A"
     ]
    },
    {
     "name": "stdout",
     "output_type": "stream",
     "text": [
      "Playing: agent_1 vs. agent_7\n"
     ]
    },
    {
     "name": "stderr",
     "output_type": "stream",
     "text": [
      "\n",
      "100%|█████████████████████████████████████████| 6/6 [00:20<00:00,  3.49s/it]\u001b[A\n",
      " 14%|█████▊                                   | 1/7 [00:20<02:05, 20.97s/it]\n",
      "  0%|                                                 | 0/5 [00:00<?, ?it/s]\u001b[A"
     ]
    },
    {
     "name": "stdout",
     "output_type": "stream",
     "text": [
      "Playing: agent_2 vs. agent_3\n"
     ]
    },
    {
     "name": "stderr",
     "output_type": "stream",
     "text": [
      "\n",
      " 20%|████████▏                                | 1/5 [00:03<00:15,  3.79s/it]\u001b[A"
     ]
    },
    {
     "name": "stdout",
     "output_type": "stream",
     "text": [
      "Playing: agent_2 vs. agent_4\n"
     ]
    },
    {
     "name": "stderr",
     "output_type": "stream",
     "text": [
      "\n",
      " 40%|████████████████▍                        | 2/5 [00:06<00:10,  3.40s/it]\u001b[A"
     ]
    },
    {
     "name": "stdout",
     "output_type": "stream",
     "text": [
      "Playing: agent_2 vs. agent_5\n"
     ]
    },
    {
     "name": "stderr",
     "output_type": "stream",
     "text": [
      "\n",
      " 60%|████████████████████████▌                | 3/5 [00:11<00:07,  3.98s/it]\u001b[A"
     ]
    },
    {
     "name": "stdout",
     "output_type": "stream",
     "text": [
      "Playing: agent_2 vs. agent_6\n"
     ]
    },
    {
     "name": "stderr",
     "output_type": "stream",
     "text": [
      "\n",
      " 80%|████████████████████████████████▊        | 4/5 [00:16<00:04,  4.37s/it]\u001b[A"
     ]
    },
    {
     "name": "stdout",
     "output_type": "stream",
     "text": [
      "Playing: agent_2 vs. agent_7\n"
     ]
    },
    {
     "name": "stderr",
     "output_type": "stream",
     "text": [
      "\n",
      "100%|█████████████████████████████████████████| 5/5 [00:20<00:00,  4.20s/it]\u001b[A\n",
      " 29%|███████████▋                             | 2/7 [00:41<01:44, 20.99s/it]\n",
      "  0%|                                                 | 0/4 [00:00<?, ?it/s]\u001b[A"
     ]
    },
    {
     "name": "stdout",
     "output_type": "stream",
     "text": [
      "Playing: agent_3 vs. agent_4\n"
     ]
    },
    {
     "name": "stderr",
     "output_type": "stream",
     "text": [
      "\n",
      " 25%|██████████▎                              | 1/4 [00:01<00:05,  1.80s/it]\u001b[A"
     ]
    },
    {
     "name": "stdout",
     "output_type": "stream",
     "text": [
      "Playing: agent_3 vs. agent_5\n"
     ]
    },
    {
     "name": "stderr",
     "output_type": "stream",
     "text": [
      "\n",
      " 50%|████████████████████▌                    | 2/4 [00:06<00:06,  3.30s/it]\u001b[A"
     ]
    },
    {
     "name": "stdout",
     "output_type": "stream",
     "text": [
      "Playing: agent_3 vs. agent_6\n"
     ]
    },
    {
     "name": "stderr",
     "output_type": "stream",
     "text": [
      "\n",
      " 75%|██████████████████████████████▊          | 3/4 [00:10<00:03,  3.82s/it]\u001b[A"
     ]
    },
    {
     "name": "stdout",
     "output_type": "stream",
     "text": [
      "Playing: agent_3 vs. agent_7\n"
     ]
    },
    {
     "name": "stderr",
     "output_type": "stream",
     "text": [
      "\n",
      "100%|█████████████████████████████████████████| 4/4 [00:14<00:00,  3.72s/it]\u001b[A\n",
      " 43%|█████████████████▌                       | 3/7 [00:56<01:12, 18.21s/it]\n",
      "  0%|                                                 | 0/3 [00:00<?, ?it/s]\u001b[A"
     ]
    },
    {
     "name": "stdout",
     "output_type": "stream",
     "text": [
      "Playing: agent_4 vs. agent_5\n"
     ]
    },
    {
     "name": "stderr",
     "output_type": "stream",
     "text": [
      "\n",
      " 33%|█████████████▋                           | 1/3 [00:06<00:13,  6.71s/it]\u001b[A"
     ]
    },
    {
     "name": "stdout",
     "output_type": "stream",
     "text": [
      "Playing: agent_4 vs. agent_6\n"
     ]
    },
    {
     "name": "stderr",
     "output_type": "stream",
     "text": [
      "\n",
      " 67%|███████████████████████████▎             | 2/3 [00:10<00:05,  5.22s/it]\u001b[A"
     ]
    },
    {
     "name": "stdout",
     "output_type": "stream",
     "text": [
      "Playing: agent_4 vs. agent_7\n"
     ]
    },
    {
     "name": "stderr",
     "output_type": "stream",
     "text": [
      "\n",
      "100%|█████████████████████████████████████████| 3/3 [00:15<00:00,  5.24s/it]\u001b[A\n",
      " 57%|███████████████████████▍                 | 4/7 [01:12<00:51, 17.23s/it]\n",
      "  0%|                                                 | 0/2 [00:00<?, ?it/s]\u001b[A"
     ]
    },
    {
     "name": "stdout",
     "output_type": "stream",
     "text": [
      "Playing: agent_5 vs. agent_6\n"
     ]
    },
    {
     "name": "stderr",
     "output_type": "stream",
     "text": [
      "\n",
      " 50%|████████████████████▌                    | 1/2 [00:04<00:04,  4.81s/it]\u001b[A"
     ]
    },
    {
     "name": "stdout",
     "output_type": "stream",
     "text": [
      "Playing: agent_5 vs. agent_7\n"
     ]
    },
    {
     "name": "stderr",
     "output_type": "stream",
     "text": [
      "\n",
      "100%|█████████████████████████████████████████| 2/2 [00:10<00:00,  5.26s/it]\u001b[A\n",
      " 71%|█████████████████████████████▎           | 5/7 [01:23<00:29, 14.81s/it]\n",
      "  0%|                                                 | 0/1 [00:00<?, ?it/s]\u001b[A"
     ]
    },
    {
     "name": "stdout",
     "output_type": "stream",
     "text": [
      "Playing: agent_6 vs. agent_7\n"
     ]
    },
    {
     "name": "stderr",
     "output_type": "stream",
     "text": [
      "\n",
      "100%|█████████████████████████████████████████| 1/1 [00:04<00:00,  4.64s/it]\u001b[A\n",
      " 86%|███████████████████████████████████▏     | 6/7 [01:27<00:11, 11.35s/it]\n",
      "0it [00:00, ?it/s]\u001b[A\n",
      "100%|█████████████████████████████████████████| 7/7 [01:27<00:00, 12.54s/it]\n"
     ]
    },
    {
     "data": {
      "text/plain": [
       "[{'game_result': 'Black Wins',\n",
       "  'black_score': 40,\n",
       "  'white_score': 0,\n",
       "  'agent_black': 'agent_1',\n",
       "  'agent_white': 'agent_2'},\n",
       " {'game_result': 'Draw',\n",
       "  'black_score': 32,\n",
       "  'white_score': 32,\n",
       "  'agent_black': 'agent_2',\n",
       "  'agent_white': 'agent_1'},\n",
       " {'game_result': 'White Wins',\n",
       "  'black_score': 19,\n",
       "  'white_score': 45,\n",
       "  'agent_black': 'agent_1',\n",
       "  'agent_white': 'agent_3'},\n",
       " {'game_result': 'Black Wins',\n",
       "  'black_score': 33,\n",
       "  'white_score': 31,\n",
       "  'agent_black': 'agent_3',\n",
       "  'agent_white': 'agent_1'},\n",
       " {'game_result': 'White Wins',\n",
       "  'black_score': 19,\n",
       "  'white_score': 45,\n",
       "  'agent_black': 'agent_1',\n",
       "  'agent_white': 'agent_4'},\n",
       " {'game_result': 'White Wins',\n",
       "  'black_score': 20,\n",
       "  'white_score': 44,\n",
       "  'agent_black': 'agent_4',\n",
       "  'agent_white': 'agent_1'},\n",
       " {'game_result': 'White Wins',\n",
       "  'black_score': 20,\n",
       "  'white_score': 44,\n",
       "  'agent_black': 'agent_1',\n",
       "  'agent_white': 'agent_5'},\n",
       " {'game_result': 'Black Wins',\n",
       "  'black_score': 40,\n",
       "  'white_score': 24,\n",
       "  'agent_black': 'agent_5',\n",
       "  'agent_white': 'agent_1'},\n",
       " {'game_result': 'White Wins',\n",
       "  'black_score': 23,\n",
       "  'white_score': 41,\n",
       "  'agent_black': 'agent_1',\n",
       "  'agent_white': 'agent_6'},\n",
       " {'game_result': 'Black Wins',\n",
       "  'black_score': 46,\n",
       "  'white_score': 18,\n",
       "  'agent_black': 'agent_6',\n",
       "  'agent_white': 'agent_1'},\n",
       " {'game_result': 'White Wins',\n",
       "  'black_score': 17,\n",
       "  'white_score': 47,\n",
       "  'agent_black': 'agent_1',\n",
       "  'agent_white': 'agent_7'},\n",
       " {'game_result': 'Black Wins',\n",
       "  'black_score': 43,\n",
       "  'white_score': 21,\n",
       "  'agent_black': 'agent_7',\n",
       "  'agent_white': 'agent_1'},\n",
       " {'game_result': 'White Wins',\n",
       "  'black_score': 22,\n",
       "  'white_score': 42,\n",
       "  'agent_black': 'agent_2',\n",
       "  'agent_white': 'agent_3'},\n",
       " {'game_result': 'White Wins',\n",
       "  'black_score': 20,\n",
       "  'white_score': 42,\n",
       "  'agent_black': 'agent_3',\n",
       "  'agent_white': 'agent_2'},\n",
       " {'game_result': 'Draw',\n",
       "  'black_score': 32,\n",
       "  'white_score': 32,\n",
       "  'agent_black': 'agent_2',\n",
       "  'agent_white': 'agent_4'},\n",
       " {'game_result': 'Black Wins',\n",
       "  'black_score': 40,\n",
       "  'white_score': 0,\n",
       "  'agent_black': 'agent_4',\n",
       "  'agent_white': 'agent_2'},\n",
       " {'game_result': 'White Wins',\n",
       "  'black_score': 3,\n",
       "  'white_score': 61,\n",
       "  'agent_black': 'agent_2',\n",
       "  'agent_white': 'agent_5'},\n",
       " {'game_result': 'White Wins',\n",
       "  'black_score': 14,\n",
       "  'white_score': 50,\n",
       "  'agent_black': 'agent_5',\n",
       "  'agent_white': 'agent_2'},\n",
       " {'game_result': 'White Wins',\n",
       "  'black_score': 1,\n",
       "  'white_score': 59,\n",
       "  'agent_black': 'agent_2',\n",
       "  'agent_white': 'agent_6'},\n",
       " {'game_result': 'White Wins',\n",
       "  'black_score': 1,\n",
       "  'white_score': 59,\n",
       "  'agent_black': 'agent_6',\n",
       "  'agent_white': 'agent_2'},\n",
       " {'game_result': 'White Wins',\n",
       "  'black_score': 7,\n",
       "  'white_score': 56,\n",
       "  'agent_black': 'agent_2',\n",
       "  'agent_white': 'agent_7'},\n",
       " {'game_result': 'White Wins',\n",
       "  'black_score': 14,\n",
       "  'white_score': 50,\n",
       "  'agent_black': 'agent_7',\n",
       "  'agent_white': 'agent_2'},\n",
       " {'game_result': 'White Wins',\n",
       "  'black_score': 22,\n",
       "  'white_score': 42,\n",
       "  'agent_black': 'agent_3',\n",
       "  'agent_white': 'agent_4'},\n",
       " {'game_result': 'White Wins',\n",
       "  'black_score': 19,\n",
       "  'white_score': 45,\n",
       "  'agent_black': 'agent_4',\n",
       "  'agent_white': 'agent_3'},\n",
       " {'game_result': 'White Wins',\n",
       "  'black_score': 19,\n",
       "  'white_score': 45,\n",
       "  'agent_black': 'agent_3',\n",
       "  'agent_white': 'agent_5'},\n",
       " {'game_result': 'Black Wins',\n",
       "  'black_score': 44,\n",
       "  'white_score': 20,\n",
       "  'agent_black': 'agent_5',\n",
       "  'agent_white': 'agent_3'},\n",
       " {'game_result': 'White Wins',\n",
       "  'black_score': 20,\n",
       "  'white_score': 42,\n",
       "  'agent_black': 'agent_3',\n",
       "  'agent_white': 'agent_6'},\n",
       " {'game_result': 'White Wins',\n",
       "  'black_score': 22,\n",
       "  'white_score': 42,\n",
       "  'agent_black': 'agent_6',\n",
       "  'agent_white': 'agent_3'},\n",
       " {'game_result': 'White Wins',\n",
       "  'black_score': 22,\n",
       "  'white_score': 42,\n",
       "  'agent_black': 'agent_3',\n",
       "  'agent_white': 'agent_7'},\n",
       " {'game_result': 'Black Wins',\n",
       "  'black_score': 48,\n",
       "  'white_score': 16,\n",
       "  'agent_black': 'agent_7',\n",
       "  'agent_white': 'agent_3'},\n",
       " {'game_result': 'White Wins',\n",
       "  'black_score': 20,\n",
       "  'white_score': 44,\n",
       "  'agent_black': 'agent_4',\n",
       "  'agent_white': 'agent_5'},\n",
       " {'game_result': 'Black Wins',\n",
       "  'black_score': 40,\n",
       "  'white_score': 24,\n",
       "  'agent_black': 'agent_5',\n",
       "  'agent_white': 'agent_4'},\n",
       " {'game_result': 'White Wins',\n",
       "  'black_score': 23,\n",
       "  'white_score': 41,\n",
       "  'agent_black': 'agent_4',\n",
       "  'agent_white': 'agent_6'},\n",
       " {'game_result': 'Black Wins',\n",
       "  'black_score': 46,\n",
       "  'white_score': 18,\n",
       "  'agent_black': 'agent_6',\n",
       "  'agent_white': 'agent_4'},\n",
       " {'game_result': 'Black Wins',\n",
       "  'black_score': 33,\n",
       "  'white_score': 31,\n",
       "  'agent_black': 'agent_4',\n",
       "  'agent_white': 'agent_7'},\n",
       " {'game_result': 'Black Wins',\n",
       "  'black_score': 35,\n",
       "  'white_score': 29,\n",
       "  'agent_black': 'agent_7',\n",
       "  'agent_white': 'agent_4'},\n",
       " {'game_result': 'White Wins',\n",
       "  'black_score': 14,\n",
       "  'white_score': 50,\n",
       "  'agent_black': 'agent_5',\n",
       "  'agent_white': 'agent_6'},\n",
       " {'game_result': 'White Wins',\n",
       "  'black_score': 3,\n",
       "  'white_score': 61,\n",
       "  'agent_black': 'agent_6',\n",
       "  'agent_white': 'agent_5'},\n",
       " {'game_result': 'White Wins',\n",
       "  'black_score': 24,\n",
       "  'white_score': 40,\n",
       "  'agent_black': 'agent_5',\n",
       "  'agent_white': 'agent_7'},\n",
       " {'game_result': 'Black Wins',\n",
       "  'black_score': 46,\n",
       "  'white_score': 18,\n",
       "  'agent_black': 'agent_7',\n",
       "  'agent_white': 'agent_5'},\n",
       " {'game_result': 'White Wins',\n",
       "  'black_score': 7,\n",
       "  'white_score': 56,\n",
       "  'agent_black': 'agent_6',\n",
       "  'agent_white': 'agent_7'},\n",
       " {'game_result': 'White Wins',\n",
       "  'black_score': 31,\n",
       "  'white_score': 33,\n",
       "  'agent_black': 'agent_7',\n",
       "  'agent_white': 'agent_6'}]"
      ]
     },
     "execution_count": 3,
     "metadata": {},
     "output_type": "execute_result"
    }
   ],
   "source": [
    "def simulate_match(agent_black_name, agent_white_name):\n",
    "    # Get agent using dictionary\n",
    "    agent_black = agents.get(agent_black_name)\n",
    "    agent_white = agents.get(agent_white_name)\n",
    "    \n",
    "    # Instantiate game instance\n",
    "    player_black = agent_black[\"black\"]\n",
    "    player_white = agent_white[\"white\"]\n",
    "    game = Game(player_black, player_white)\n",
    "    \n",
    "    while not game.is_finished:\n",
    "        game.get_player_move() \n",
    "        game.make_move()\n",
    "        game.change_turn()\n",
    "        game.update_valid_moves()\n",
    "        game.update_scores()\n",
    "        game.check_finished()\n",
    "    \n",
    "    game.determine_winner()\n",
    "\n",
    "    return {\n",
    "        'game_result': game.game_result,\n",
    "        'black_score': game.black_score,\n",
    "        'white_score': game.white_score,\n",
    "        'agent_black': agent_black_name,\n",
    "        'agent_white': agent_white_name\n",
    "    }\n",
    "    \n",
    "\n",
    "from tqdm import tqdm \n",
    "\n",
    "def generate_league():\n",
    "    league_results = []\n",
    "    agent_names = list(agents.keys())\n",
    "\n",
    "    for i in tqdm(range(len(agent_names))):\n",
    "        for j in tqdm(range(i + 1, len(agent_names))):\n",
    "\n",
    "            print(f\"Playing: {agent_names[i]} vs. {agent_names[j]}\")\n",
    "            \n",
    "            # Play each pair of agents twice, once as black and once as white\n",
    "            result_1 = simulate_match(agent_names[i], agent_names[j])\n",
    "            result_2 = simulate_match(agent_names[j], agent_names[i])\n",
    "\n",
    "            # Store results\n",
    "            league_results.append(result_1)\n",
    "            league_results.append(result_2)\n",
    "\n",
    "    return league_results\n",
    "\n",
    "# Generate the league\n",
    "league_results = generate_league()\n",
    "league_results"
   ]
  }
 ],
 "metadata": {
  "kernelspec": {
   "display_name": "Python 3 (ipykernel)",
   "language": "python",
   "name": "python3"
  },
  "language_info": {
   "codemirror_mode": {
    "name": "ipython",
    "version": 3
   },
   "file_extension": ".py",
   "mimetype": "text/x-python",
   "name": "python",
   "nbconvert_exporter": "python",
   "pygments_lexer": "ipython3",
   "version": "3.8.5"
  }
 },
 "nbformat": 4,
 "nbformat_minor": 5
}
