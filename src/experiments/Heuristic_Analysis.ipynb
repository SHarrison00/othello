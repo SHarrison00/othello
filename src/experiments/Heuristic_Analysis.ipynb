{
 "cells": [
  {
   "cell_type": "markdown",
   "id": "9245c9e6",
   "metadata": {},
   "source": [
    "# Heuristic Analysis for Minimax AI in Othello\n",
    "\n",
    "In this notebook, we explore the most effective **heuristics** for guiding the Minimax algorithm. \n",
    "\n",
    "Several AI agents, each employing different combinations of heuristics, engage in head-to-head matches. Through these matches, we identify the strongest heuristics that lead to superior AI performance and strategic gameplay.\n",
    "\n",
    "---\n",
    "\n",
    "## Theoretical Analysis\n",
    "\n",
    "The theoretical analysis in this notebook focuses on match evaluation. Specifically, we explore which AI agents (in terms of their heursitics, heuristic weights, and depth settings) achieve the most wins. Based on these results, we infer the strategies that lead to superior Othello AI agents.   \n",
    "\n",
    "Hypotheses:\n",
    "\n",
    "- Corner control is the most important heuristic [1], since gaining corner squares are fundamental to Othello strategy [2]. \n",
    "- Combining all three heuristics (disc difference, mobility, and corner control) should yield the strongest AI [1].\n",
    "- Agents that search **deeper** (i.e higher depth parameter) are stronger, since they \"look further ahead\".\n",
    "\n",
    "Methodology:\n",
    "\n",
    "- Several AI agents are assessed, each using different combinations of heuristics, via. **head-to-head matches**.\n",
    "- To ensure fairness, every agent competes against every other agent *twice*, once as Black and once as White.\n",
    "- To ensure fairness, every Minimax agent has depth set to three, i.e. $d=3$. Additionally, this is done for practicality, i.e. computational efficiency.\n",
    "- Results naturally generate a **league structure**, akin to the common format used in football leagues worldwide, following a \"double round-robin\" basis.\n",
    "- To maintain simplicity, all agents employ uniform weights. We reserve weight optimization for future analyses, i.e. fine-tuning AI performance.\n",
    "\n",
    "\n",
    "### References\n",
    "\n",
    "[1] Sannidhanam, A., & Muthukaruppan, A. (2004). '[An Analysis of Heuristics in Othello](https://courses.cs.washington.edu/courses/cse573/04au/Project/mini1/RUSSIA/Final_Paper.pdf)'.\n",
    "\n",
    "[2] Rose, B. (2004). '[Othello: A Minute to Learn... A Lifetime to Master.](https://www.ffothello.org/livres/othello-book-Brian-Rose.pdf)' Anjar Co.\n",
    "\n",
    "---"
   ]
  },
  {
   "cell_type": "markdown",
   "id": "bea0dad0",
   "metadata": {},
   "source": [
    "## Load Source Code"
   ]
  },
  {
   "cell_type": "code",
   "execution_count": 1,
   "id": "27472d28",
   "metadata": {},
   "outputs": [],
   "source": [
    "import os\n",
    "import sys\n",
    "\n",
    "# Calculate path to the src directory and append to sys.path\n",
    "current_dir = os.path.dirname(os.path.abspath(\"Heuristic_Analysis.ipynb\"))\n",
    "project_root = os.path.dirname(os.path.dirname(current_dir))\n",
    "sys.path.append(os.path.join(project_root, 'src'))\n",
    "\n",
    "from game import Game\n",
    "from board import SquareType\n",
    "from player import Player, PlayerType\n",
    "from state_evaluation import StateEvaluator, HeuristicType\n",
    "from tqdm import tqdm "
   ]
  },
  {
   "cell_type": "markdown",
   "id": "aaf8b085",
   "metadata": {},
   "source": [
    "## Initialise Players"
   ]
  },
  {
   "cell_type": "code",
   "execution_count": 2,
   "id": "8ccf1346",
   "metadata": {},
   "outputs": [],
   "source": [
    "# Agents dictionary\n",
    "agents = {}\n",
    "depth = 1\n",
    "\n",
    "# Agent 1: Disc difference\n",
    "custom_weights = {HeuristicType.DISC_DIFF: 1.0}\n",
    "state_eval = StateEvaluator(weights=custom_weights)\n",
    "agents['agent_1'] = {\n",
    "    'black': Player(PlayerType.MINIMAX, SquareType.BLACK, state_eval, depth),\n",
    "    'white': Player(PlayerType.MINIMAX, SquareType.WHITE, state_eval, depth)\n",
    "}\n",
    "\n",
    "# Agent 2: Mobility\n",
    "custom_weights = {HeuristicType.MOBILITY: 1.0}\n",
    "state_eval = StateEvaluator(weights=custom_weights)\n",
    "agents['agent_2'] = {\n",
    "    'black': Player(PlayerType.MINIMAX, SquareType.BLACK, state_eval, depth),\n",
    "    'white': Player(PlayerType.MINIMAX, SquareType.WHITE, state_eval, depth)\n",
    "}\n",
    "\n",
    "# Agent 3: Corners\n",
    "custom_weights = {HeuristicType.CORNERS: 1.0}\n",
    "state_eval = StateEvaluator(weights=custom_weights)\n",
    "agents['agent_3'] = {\n",
    "    'black': Player(PlayerType.MINIMAX, SquareType.BLACK, state_eval, depth),\n",
    "    'white': Player(PlayerType.MINIMAX, SquareType.WHITE, state_eval, depth)\n",
    "}\n",
    "\n",
    "# Agent 4: Disc difference & Corners\n",
    "custom_weights = {HeuristicType.DISC_DIFF: 0.5, HeuristicType.CORNERS: 0.5}\n",
    "state_eval = StateEvaluator(weights=custom_weights)\n",
    "agents['agent_4'] = {\n",
    "    'black': Player(PlayerType.MINIMAX, SquareType.BLACK, state_eval, depth),\n",
    "    'white': Player(PlayerType.MINIMAX, SquareType.WHITE, state_eval, depth)\n",
    "}\n",
    "\n",
    "# Agent 5: Disc difference & Mobility\n",
    "custom_weights = {HeuristicType.DISC_DIFF: 0.5, HeuristicType.MOBILITY: 0.5}\n",
    "state_eval = StateEvaluator(weights=custom_weights)\n",
    "agents['agent_5'] = {\n",
    "    'black': Player(PlayerType.MINIMAX, SquareType.BLACK, state_eval, depth),\n",
    "    'white': Player(PlayerType.MINIMAX, SquareType.WHITE, state_eval, depth)\n",
    "}\n",
    "\n",
    "# Agent 6: Mobility & Corners\n",
    "custom_weights = {HeuristicType.MOBILITY: 0.5, HeuristicType.CORNERS: 0.5}\n",
    "state_eval = StateEvaluator(weights=custom_weights)\n",
    "agents['agent_6'] = {\n",
    "    'black': Player(PlayerType.MINIMAX, SquareType.BLACK, state_eval, depth),\n",
    "    'white': Player(PlayerType.MINIMAX, SquareType.WHITE, state_eval, depth)\n",
    "}\n",
    "\n",
    "# Agent 7: All Heuristics\n",
    "custom_weights = {\n",
    "    HeuristicType.DISC_DIFF: 1/3,\n",
    "    HeuristicType.MOBILITY: 1/3,\n",
    "    HeuristicType.CORNERS: 1/3\n",
    "}\n",
    "state_eval = StateEvaluator(weights=custom_weights)\n",
    "agents['agent_7'] = {\n",
    "    'black': Player(PlayerType.MINIMAX, SquareType.BLACK, state_eval, depth),\n",
    "    'white': Player(PlayerType.MINIMAX, SquareType.WHITE, state_eval, depth)\n",
    "}"
   ]
  },
  {
   "cell_type": "markdown",
   "id": "d7b06dc3-6037-47ad-bb65-d563d898b86f",
   "metadata": {},
   "source": [
    "## Simulate Match Function\n",
    "\n",
    "- A function to simulate an Othello match between two agents.\n",
    "- Returns all relevant information, i.e winnner, score etc."
   ]
  },
  {
   "cell_type": "code",
   "execution_count": 3,
   "id": "fe4153ea-46fa-400b-9bcf-a9470f1167ec",
   "metadata": {},
   "outputs": [],
   "source": [
    "def simulate_match(agent_black_name, agent_white_name):\n",
    "    \"\"\"\n",
    "    Simulates an Othello match between two agents.\n",
    "    \"\"\"\n",
    "    \n",
    "    # Get agent using dictionary\n",
    "    agent_black = agents.get(agent_black_name)\n",
    "    agent_white = agents.get(agent_white_name)\n",
    "    \n",
    "    # Instantiate game instance\n",
    "    player_black = agent_black[\"black\"]\n",
    "    player_white = agent_white[\"white\"]\n",
    "    game = Game(player_black, player_white)\n",
    "    \n",
    "    while not game.is_finished:\n",
    "        game.get_player_move() \n",
    "        game.make_move()\n",
    "        game.change_turn()\n",
    "        game.update_valid_moves()\n",
    "        game.update_scores()\n",
    "        game.check_finished()\n",
    "    \n",
    "    game.determine_winner()\n",
    "\n",
    "    return {\n",
    "        'game_result': game.game_result,\n",
    "        'black_score': game.black_score,\n",
    "        'white_score': game.white_score,\n",
    "        'agent_black': agent_black_name,\n",
    "        'agent_white': agent_white_name\n",
    "    }"
   ]
  },
  {
   "cell_type": "markdown",
   "id": "8a5b5199-0162-4adb-a0e9-f6f27c5f4390",
   "metadata": {},
   "source": [
    "## Generate (All) Match Results Function\n",
    "\n",
    "- A function to generate match results for each agent matchup. \n",
    "- Returns all relevant information, i.e winnner, score etc."
   ]
  },
  {
   "cell_type": "code",
   "execution_count": 4,
   "id": "7c16e974-2660-4b25-a92e-3d079aa03655",
   "metadata": {},
   "outputs": [],
   "source": [
    "def generate_match_results():\n",
    "    \"\"\"\n",
    "    Generates match results for each agent matchup. \n",
    "    \"\"\"\n",
    "    \n",
    "    match_results = []\n",
    "    agent_names = list(agents.keys())\n",
    "\n",
    "    for i in tqdm(range(len(agent_names))):\n",
    "        for j in tqdm(range(i + 1, len(agent_names))):\n",
    "            print(f\"Playing: {agent_names[i]} vs. {agent_names[j]}\")\n",
    "            \n",
    "            result_1 = simulate_match(agent_names[i], agent_names[j])\n",
    "            result_2 = simulate_match(agent_names[j], agent_names[i])\n",
    "            \n",
    "            match_results.append(result_1)\n",
    "            match_results.append(result_2)\n",
    "\n",
    "    return match_results"
   ]
  },
  {
   "cell_type": "markdown",
   "id": "c180b54e-df25-46c9-931d-a13b36221cb4",
   "metadata": {},
   "source": [
    "- Run the above, generating all match results.\n",
    "- Save locally, and interpret results externally."
   ]
  },
  {
   "cell_type": "code",
   "execution_count": 5,
   "id": "6dcc2e6a-5cb7-45e9-ad62-c1a19fd7df20",
   "metadata": {
    "scrolled": true
   },
   "outputs": [
    {
     "name": "stderr",
     "output_type": "stream",
     "text": [
      "  0%|                                                     | 0/7 [00:00<?, ?it/s]\n",
      "  0%|                                                     | 0/6 [00:00<?, ?it/s]\u001b[A"
     ]
    },
    {
     "name": "stdout",
     "output_type": "stream",
     "text": [
      "Playing: agent_1 vs. agent_2\n"
     ]
    },
    {
     "name": "stderr",
     "output_type": "stream",
     "text": [
      "\n",
      " 17%|███████▌                                     | 1/6 [00:03<00:16,  3.26s/it]\u001b[A"
     ]
    },
    {
     "name": "stdout",
     "output_type": "stream",
     "text": [
      "Playing: agent_1 vs. agent_3\n"
     ]
    },
    {
     "name": "stderr",
     "output_type": "stream",
     "text": [
      "\n",
      " 33%|███████████████                              | 2/6 [00:05<00:09,  2.42s/it]\u001b[A"
     ]
    },
    {
     "name": "stdout",
     "output_type": "stream",
     "text": [
      "Playing: agent_1 vs. agent_4\n"
     ]
    },
    {
     "name": "stderr",
     "output_type": "stream",
     "text": [
      "\n",
      " 50%|██████████████████████▌                      | 3/6 [00:07<00:06,  2.33s/it]\u001b[A"
     ]
    },
    {
     "name": "stdout",
     "output_type": "stream",
     "text": [
      "Playing: agent_1 vs. agent_5\n"
     ]
    },
    {
     "name": "stderr",
     "output_type": "stream",
     "text": [
      "\n",
      " 67%|██████████████████████████████               | 4/6 [00:11<00:06,  3.23s/it]\u001b[A"
     ]
    },
    {
     "name": "stdout",
     "output_type": "stream",
     "text": [
      "Playing: agent_1 vs. agent_6\n"
     ]
    },
    {
     "name": "stderr",
     "output_type": "stream",
     "text": [
      "\n",
      " 83%|█████████████████████████████████████▌       | 5/6 [00:16<00:03,  3.58s/it]\u001b[A"
     ]
    },
    {
     "name": "stdout",
     "output_type": "stream",
     "text": [
      "Playing: agent_1 vs. agent_7\n"
     ]
    },
    {
     "name": "stderr",
     "output_type": "stream",
     "text": [
      "\n",
      "100%|█████████████████████████████████████████████| 6/6 [00:20<00:00,  3.48s/it]\u001b[A\n",
      " 14%|██████▍                                      | 1/7 [00:20<02:05, 20.90s/it]\n",
      "  0%|                                                     | 0/5 [00:00<?, ?it/s]\u001b[A"
     ]
    },
    {
     "name": "stdout",
     "output_type": "stream",
     "text": [
      "Playing: agent_2 vs. agent_3\n"
     ]
    },
    {
     "name": "stderr",
     "output_type": "stream",
     "text": [
      "\n",
      " 20%|█████████                                    | 1/5 [00:03<00:15,  3.77s/it]\u001b[A"
     ]
    },
    {
     "name": "stdout",
     "output_type": "stream",
     "text": [
      "Playing: agent_2 vs. agent_4\n"
     ]
    },
    {
     "name": "stderr",
     "output_type": "stream",
     "text": [
      "\n",
      " 40%|██████████████████                           | 2/5 [00:06<00:10,  3.37s/it]\u001b[A"
     ]
    },
    {
     "name": "stdout",
     "output_type": "stream",
     "text": [
      "Playing: agent_2 vs. agent_5\n"
     ]
    },
    {
     "name": "stderr",
     "output_type": "stream",
     "text": [
      "\n",
      " 60%|███████████████████████████                  | 3/5 [00:11<00:07,  3.88s/it]\u001b[A"
     ]
    },
    {
     "name": "stdout",
     "output_type": "stream",
     "text": [
      "Playing: agent_2 vs. agent_6\n"
     ]
    },
    {
     "name": "stderr",
     "output_type": "stream",
     "text": [
      "\n",
      " 80%|████████████████████████████████████         | 4/5 [00:16<00:04,  4.32s/it]\u001b[A"
     ]
    },
    {
     "name": "stdout",
     "output_type": "stream",
     "text": [
      "Playing: agent_2 vs. agent_7\n"
     ]
    },
    {
     "name": "stderr",
     "output_type": "stream",
     "text": [
      "\n",
      "100%|█████████████████████████████████████████████| 5/5 [00:20<00:00,  4.15s/it]\u001b[A\n",
      " 29%|████████████▊                                | 2/7 [00:41<01:44, 20.82s/it]\n",
      "  0%|                                                     | 0/4 [00:00<?, ?it/s]\u001b[A"
     ]
    },
    {
     "name": "stdout",
     "output_type": "stream",
     "text": [
      "Playing: agent_3 vs. agent_4\n"
     ]
    },
    {
     "name": "stderr",
     "output_type": "stream",
     "text": [
      "\n",
      " 25%|███████████▎                                 | 1/4 [00:01<00:05,  1.91s/it]\u001b[A"
     ]
    },
    {
     "name": "stdout",
     "output_type": "stream",
     "text": [
      "Playing: agent_3 vs. agent_5\n"
     ]
    },
    {
     "name": "stderr",
     "output_type": "stream",
     "text": [
      "\n",
      " 50%|██████████████████████▌                      | 2/4 [00:06<00:06,  3.39s/it]\u001b[A"
     ]
    },
    {
     "name": "stdout",
     "output_type": "stream",
     "text": [
      "Playing: agent_3 vs. agent_6\n"
     ]
    },
    {
     "name": "stderr",
     "output_type": "stream",
     "text": [
      "\n",
      " 75%|█████████████████████████████████▊           | 3/4 [00:10<00:03,  3.63s/it]\u001b[A"
     ]
    },
    {
     "name": "stdout",
     "output_type": "stream",
     "text": [
      "Playing: agent_3 vs. agent_7\n"
     ]
    },
    {
     "name": "stderr",
     "output_type": "stream",
     "text": [
      "\n",
      "100%|█████████████████████████████████████████████| 4/4 [00:14<00:00,  3.60s/it]\u001b[A\n",
      " 43%|███████████████████▎                         | 3/7 [00:56<01:11, 17.89s/it]\n",
      "  0%|                                                     | 0/3 [00:00<?, ?it/s]\u001b[A"
     ]
    },
    {
     "name": "stdout",
     "output_type": "stream",
     "text": [
      "Playing: agent_4 vs. agent_5\n"
     ]
    },
    {
     "name": "stderr",
     "output_type": "stream",
     "text": [
      "\n",
      " 33%|███████████████                              | 1/3 [00:04<00:09,  4.61s/it]\u001b[A"
     ]
    },
    {
     "name": "stdout",
     "output_type": "stream",
     "text": [
      "Playing: agent_4 vs. agent_6\n"
     ]
    },
    {
     "name": "stderr",
     "output_type": "stream",
     "text": [
      "\n",
      " 67%|██████████████████████████████               | 2/3 [00:08<00:04,  4.40s/it]\u001b[A"
     ]
    },
    {
     "name": "stdout",
     "output_type": "stream",
     "text": [
      "Playing: agent_4 vs. agent_7\n"
     ]
    },
    {
     "name": "stderr",
     "output_type": "stream",
     "text": [
      "\n",
      "100%|█████████████████████████████████████████████| 3/3 [00:13<00:00,  4.54s/it]\u001b[A\n",
      " 57%|█████████████████████████▋                   | 4/7 [01:09<00:48, 16.21s/it]\n",
      "  0%|                                                     | 0/2 [00:00<?, ?it/s]\u001b[A"
     ]
    },
    {
     "name": "stdout",
     "output_type": "stream",
     "text": [
      "Playing: agent_5 vs. agent_6\n"
     ]
    },
    {
     "name": "stderr",
     "output_type": "stream",
     "text": [
      "\n",
      " 50%|██████████████████████▌                      | 1/2 [00:04<00:04,  4.63s/it]\u001b[A"
     ]
    },
    {
     "name": "stdout",
     "output_type": "stream",
     "text": [
      "Playing: agent_5 vs. agent_7\n"
     ]
    },
    {
     "name": "stderr",
     "output_type": "stream",
     "text": [
      "\n",
      "100%|█████████████████████████████████████████████| 2/2 [00:10<00:00,  5.05s/it]\u001b[A\n",
      " 71%|████████████████████████████████▏            | 5/7 [01:19<00:28, 14.01s/it]\n",
      "  0%|                                                     | 0/1 [00:00<?, ?it/s]\u001b[A"
     ]
    },
    {
     "name": "stdout",
     "output_type": "stream",
     "text": [
      "Playing: agent_6 vs. agent_7\n"
     ]
    },
    {
     "name": "stderr",
     "output_type": "stream",
     "text": [
      "\n",
      "100%|█████████████████████████████████████████████| 1/1 [00:04<00:00,  4.74s/it]\u001b[A\n",
      " 86%|██████████████████████████████████████▌      | 6/7 [01:24<00:10, 10.86s/it]\n",
      "0it [00:00, ?it/s]\u001b[A\n",
      "100%|█████████████████████████████████████████████| 7/7 [01:24<00:00, 12.08s/it]\n"
     ]
    }
   ],
   "source": [
    "# Generate match results\n",
    "match_results = generate_match_results()"
   ]
  },
  {
   "cell_type": "code",
   "execution_count": 6,
   "id": "df7726c6-f52f-4bde-8917-03fc93ec12e6",
   "metadata": {},
   "outputs": [
    {
     "data": {
      "text/html": [
       "<div>\n",
       "<style scoped>\n",
       "    .dataframe tbody tr th:only-of-type {\n",
       "        vertical-align: middle;\n",
       "    }\n",
       "\n",
       "    .dataframe tbody tr th {\n",
       "        vertical-align: top;\n",
       "    }\n",
       "\n",
       "    .dataframe thead th {\n",
       "        text-align: right;\n",
       "    }\n",
       "</style>\n",
       "<table border=\"1\" class=\"dataframe\">\n",
       "  <thead>\n",
       "    <tr style=\"text-align: right;\">\n",
       "      <th></th>\n",
       "      <th>game_result</th>\n",
       "      <th>black_score</th>\n",
       "      <th>white_score</th>\n",
       "      <th>agent_black</th>\n",
       "      <th>agent_white</th>\n",
       "    </tr>\n",
       "  </thead>\n",
       "  <tbody>\n",
       "    <tr>\n",
       "      <th>0</th>\n",
       "      <td>Black Wins</td>\n",
       "      <td>40</td>\n",
       "      <td>0</td>\n",
       "      <td>agent_1</td>\n",
       "      <td>agent_2</td>\n",
       "    </tr>\n",
       "    <tr>\n",
       "      <th>1</th>\n",
       "      <td>Draw</td>\n",
       "      <td>32</td>\n",
       "      <td>32</td>\n",
       "      <td>agent_2</td>\n",
       "      <td>agent_1</td>\n",
       "    </tr>\n",
       "    <tr>\n",
       "      <th>2</th>\n",
       "      <td>White Wins</td>\n",
       "      <td>19</td>\n",
       "      <td>45</td>\n",
       "      <td>agent_1</td>\n",
       "      <td>agent_3</td>\n",
       "    </tr>\n",
       "    <tr>\n",
       "      <th>3</th>\n",
       "      <td>Black Wins</td>\n",
       "      <td>33</td>\n",
       "      <td>31</td>\n",
       "      <td>agent_3</td>\n",
       "      <td>agent_1</td>\n",
       "    </tr>\n",
       "    <tr>\n",
       "      <th>4</th>\n",
       "      <td>White Wins</td>\n",
       "      <td>19</td>\n",
       "      <td>45</td>\n",
       "      <td>agent_1</td>\n",
       "      <td>agent_4</td>\n",
       "    </tr>\n",
       "  </tbody>\n",
       "</table>\n",
       "</div>"
      ],
      "text/plain": [
       "  game_result  black_score  white_score agent_black agent_white\n",
       "0  Black Wins           40            0     agent_1     agent_2\n",
       "1        Draw           32           32     agent_2     agent_1\n",
       "2  White Wins           19           45     agent_1     agent_3\n",
       "3  Black Wins           33           31     agent_3     agent_1\n",
       "4  White Wins           19           45     agent_1     agent_4"
      ]
     },
     "execution_count": 6,
     "metadata": {},
     "output_type": "execute_result"
    }
   ],
   "source": [
    "import pandas as pd\n",
    "\n",
    "# Save Data Frame locally, as .csv\n",
    "df_results = pd.DataFrame(match_results)\n",
    "df_results.to_csv(\"match_results.csv\")\n",
    "df_results.head()"
   ]
  },
  {
   "cell_type": "markdown",
   "id": "f0b57fac",
   "metadata": {},
   "source": [
    "- Transform the match results DataFrame into a league table."
   ]
  },
  {
   "cell_type": "code",
   "execution_count": 7,
   "id": "f2078535",
   "metadata": {},
   "outputs": [],
   "source": [
    "# Create a list of unique agent names\n",
    "all_agents = pd.concat([df_results['agent_black'], df_results['agent_white']]).unique()\n",
    "\n",
    "# Initialize a DataFrame for the league table\n",
    "df_league = pd.DataFrame(index=all_agents)\n",
    "\n",
    "# Count wins, draws, and losses for each agent\n",
    "df_league['Wins'] = (\n",
    "    (df_results['game_result'] == 'Black Wins').groupby(df_results['agent_black']).sum() +\n",
    "    (df_results['game_result'] == 'White Wins').groupby(df_results['agent_white']).sum()\n",
    ")\n",
    "\n",
    "df_league['Draws'] = (\n",
    "    (df_results['game_result'] == 'Draw').groupby(df_results['agent_black']).sum() +\n",
    "    (df_results['game_result'] == 'Draw').groupby(df_results['agent_white']).sum()\n",
    ")\n",
    "\n",
    "df_league['Losses'] = (\n",
    "    (df_results['game_result'] == 'White Wins').groupby(df_results['agent_black']).sum() +\n",
    "    (df_results['game_result'] == 'Black Wins').groupby(df_results['agent_white']).sum()\n",
    ")\n",
    "\n",
    "# Calculate points based on wins and draws\n",
    "df_league['Points'] = df_league['Wins'] * 3 + df_league['Draws']\n",
    "\n",
    "# Fill NaN values with 0 for agents with no matches\n",
    "df_league.fillna(0, inplace=True)\n",
    "\n",
    "# Sort the league table by Points in descending order\n",
    "df_league.sort_values(by='Points', ascending=False, inplace=True)"
   ]
  },
  {
   "cell_type": "markdown",
   "id": "e7923179",
   "metadata": {},
   "source": [
    "- Save locally, and interpret results externally."
   ]
  },
  {
   "cell_type": "code",
   "execution_count": 8,
   "id": "557a671e",
   "metadata": {},
   "outputs": [
    {
     "data": {
      "text/html": [
       "<div>\n",
       "<style scoped>\n",
       "    .dataframe tbody tr th:only-of-type {\n",
       "        vertical-align: middle;\n",
       "    }\n",
       "\n",
       "    .dataframe tbody tr th {\n",
       "        vertical-align: top;\n",
       "    }\n",
       "\n",
       "    .dataframe thead th {\n",
       "        text-align: right;\n",
       "    }\n",
       "</style>\n",
       "<table border=\"1\" class=\"dataframe\">\n",
       "  <thead>\n",
       "    <tr style=\"text-align: right;\">\n",
       "      <th></th>\n",
       "      <th>Wins</th>\n",
       "      <th>Draws</th>\n",
       "      <th>Losses</th>\n",
       "      <th>Points</th>\n",
       "    </tr>\n",
       "  </thead>\n",
       "  <tbody>\n",
       "    <tr>\n",
       "      <th>agent_7</th>\n",
       "      <td>9</td>\n",
       "      <td>0</td>\n",
       "      <td>3</td>\n",
       "      <td>27</td>\n",
       "    </tr>\n",
       "    <tr>\n",
       "      <th>agent_5</th>\n",
       "      <td>8</td>\n",
       "      <td>0</td>\n",
       "      <td>4</td>\n",
       "      <td>24</td>\n",
       "    </tr>\n",
       "    <tr>\n",
       "      <th>agent_6</th>\n",
       "      <td>8</td>\n",
       "      <td>0</td>\n",
       "      <td>4</td>\n",
       "      <td>24</td>\n",
       "    </tr>\n",
       "    <tr>\n",
       "      <th>agent_3</th>\n",
       "      <td>5</td>\n",
       "      <td>0</td>\n",
       "      <td>7</td>\n",
       "      <td>15</td>\n",
       "    </tr>\n",
       "    <tr>\n",
       "      <th>agent_2</th>\n",
       "      <td>4</td>\n",
       "      <td>2</td>\n",
       "      <td>6</td>\n",
       "      <td>14</td>\n",
       "    </tr>\n",
       "    <tr>\n",
       "      <th>agent_4</th>\n",
       "      <td>4</td>\n",
       "      <td>1</td>\n",
       "      <td>7</td>\n",
       "      <td>13</td>\n",
       "    </tr>\n",
       "    <tr>\n",
       "      <th>agent_1</th>\n",
       "      <td>2</td>\n",
       "      <td>1</td>\n",
       "      <td>9</td>\n",
       "      <td>7</td>\n",
       "    </tr>\n",
       "  </tbody>\n",
       "</table>\n",
       "</div>"
      ],
      "text/plain": [
       "         Wins  Draws  Losses  Points\n",
       "agent_7     9      0       3      27\n",
       "agent_5     8      0       4      24\n",
       "agent_6     8      0       4      24\n",
       "agent_3     5      0       7      15\n",
       "agent_2     4      2       6      14\n",
       "agent_4     4      1       7      13\n",
       "agent_1     2      1       9       7"
      ]
     },
     "execution_count": 8,
     "metadata": {},
     "output_type": "execute_result"
    }
   ],
   "source": [
    "# Save Data Frame locally, as .csv\n",
    "df_league.to_csv(\"league_table.csv\")\n",
    "df_league"
   ]
  }
 ],
 "metadata": {
  "kernelspec": {
   "display_name": "Python 3 (ipykernel)",
   "language": "python",
   "name": "python3"
  },
  "language_info": {
   "codemirror_mode": {
    "name": "ipython",
    "version": 3
   },
   "file_extension": ".py",
   "mimetype": "text/x-python",
   "name": "python",
   "nbconvert_exporter": "python",
   "pygments_lexer": "ipython3",
   "version": "3.8.5"
  }
 },
 "nbformat": 4,
 "nbformat_minor": 5
}
